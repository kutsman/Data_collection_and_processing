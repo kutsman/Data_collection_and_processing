{
 "cells": [
  {
   "cell_type": "markdown",
   "id": "78b8e667",
   "metadata": {},
   "source": [
    "Задание 1. Посмотреть документацию к API GitHub, разобраться как вывести список репозиториев для конкретного пользователя, сохранить JSON-вывод в файле *.json."
   ]
  },
  {
   "cell_type": "code",
   "execution_count": 1,
   "id": "e467f429",
   "metadata": {},
   "outputs": [],
   "source": [
    "# user_repositories_url\": \"https://api.github.com/users/{user}/repos{?type,page,per_page,sort}\n",
    "#обращение к репозиторию пользователя {user}"
   ]
  },
  {
   "cell_type": "code",
   "execution_count": 2,
   "id": "4da7a512",
   "metadata": {},
   "outputs": [],
   "source": [
    "import requests"
   ]
  },
  {
   "cell_type": "code",
   "execution_count": 3,
   "id": "00b087f5",
   "metadata": {},
   "outputs": [],
   "source": [
    "import json"
   ]
  },
  {
   "cell_type": "code",
   "execution_count": 4,
   "id": "537a0394",
   "metadata": {},
   "outputs": [],
   "source": [
    "username = 'kutsman'\n",
    "url = 'https://api.github.com/users/'+username+'/repos'"
   ]
  },
  {
   "cell_type": "code",
   "execution_count": 5,
   "id": "82cc0b30",
   "metadata": {},
   "outputs": [
    {
     "name": "stdout",
     "output_type": "stream",
     "text": [
      "Получен результат: [{'id': 562309423, 'node_id': 'R_kgDOIYQpLw', 'name': 'DataScienceLibrary', 'full_name': 'kutsman/DataScienceLibrary', 'private': False, 'owner': {'login': 'kutsman', 'id': 103063854, 'node_id': 'U_kgDOBiShLg', 'avatar_url': 'https://avatars.githubusercontent.com/u/103063854?v=4', 'gravatar_id': '', 'url': 'https://api.github.com/users/kutsman', 'html_url': 'https://github.com/kutsman', 'followers_url': 'https://api.github.com/users/kutsman/followers', 'following_url': 'https://api.github.com/users/kutsman/following{/other_user}', 'gists_url': 'https://api.github.com/users/kutsman/gists{/gist_id}', 'starred_url': 'https://api.github.com/users/kutsman/starred{/owner}{/repo}', 'subscriptions_url': 'https://api.github.com/users/kutsman/subscriptions', 'organizations_url': 'https://api.github.com/users/kutsman/orgs', 'repos_url': 'https://api.github.com/users/kutsman/repos', 'events_url': 'https://api.github.com/users/kutsman/events{/privacy}', 'received_events_url': 'https://api.github.com/users/kutsman/received_events', 'type': 'User', 'site_admin': False}, 'html_url': 'https://github.com/kutsman/DataScienceLibrary', 'description': 'Homework', 'fork': False, 'url': 'https://api.github.com/repos/kutsman/DataScienceLibrary', 'forks_url': 'https://api.github.com/repos/kutsman/DataScienceLibrary/forks', 'keys_url': 'https://api.github.com/repos/kutsman/DataScienceLibrary/keys{/key_id}', 'collaborators_url': 'https://api.github.com/repos/kutsman/DataScienceLibrary/collaborators{/collaborator}', 'teams_url': 'https://api.github.com/repos/kutsman/DataScienceLibrary/teams', 'hooks_url': 'https://api.github.com/repos/kutsman/DataScienceLibrary/hooks', 'issue_events_url': 'https://api.github.com/repos/kutsman/DataScienceLibrary/issues/events{/number}', 'events_url': 'https://api.github.com/repos/kutsman/DataScienceLibrary/events', 'assignees_url': 'https://api.github.com/repos/kutsman/DataScienceLibrary/assignees{/user}', 'branches_url': 'https://api.github.com/repos/kutsman/DataScienceLibrary/branches{/branch}', 'tags_url': 'https://api.github.com/repos/kutsman/DataScienceLibrary/tags', 'blobs_url': 'https://api.github.com/repos/kutsman/DataScienceLibrary/git/blobs{/sha}', 'git_tags_url': 'https://api.github.com/repos/kutsman/DataScienceLibrary/git/tags{/sha}', 'git_refs_url': 'https://api.github.com/repos/kutsman/DataScienceLibrary/git/refs{/sha}', 'trees_url': 'https://api.github.com/repos/kutsman/DataScienceLibrary/git/trees{/sha}', 'statuses_url': 'https://api.github.com/repos/kutsman/DataScienceLibrary/statuses/{sha}', 'languages_url': 'https://api.github.com/repos/kutsman/DataScienceLibrary/languages', 'stargazers_url': 'https://api.github.com/repos/kutsman/DataScienceLibrary/stargazers', 'contributors_url': 'https://api.github.com/repos/kutsman/DataScienceLibrary/contributors', 'subscribers_url': 'https://api.github.com/repos/kutsman/DataScienceLibrary/subscribers', 'subscription_url': 'https://api.github.com/repos/kutsman/DataScienceLibrary/subscription', 'commits_url': 'https://api.github.com/repos/kutsman/DataScienceLibrary/commits{/sha}', 'git_commits_url': 'https://api.github.com/repos/kutsman/DataScienceLibrary/git/commits{/sha}', 'comments_url': 'https://api.github.com/repos/kutsman/DataScienceLibrary/comments{/number}', 'issue_comment_url': 'https://api.github.com/repos/kutsman/DataScienceLibrary/issues/comments{/number}', 'contents_url': 'https://api.github.com/repos/kutsman/DataScienceLibrary/contents/{+path}', 'compare_url': 'https://api.github.com/repos/kutsman/DataScienceLibrary/compare/{base}...{head}', 'merges_url': 'https://api.github.com/repos/kutsman/DataScienceLibrary/merges', 'archive_url': 'https://api.github.com/repos/kutsman/DataScienceLibrary/{archive_format}{/ref}', 'downloads_url': 'https://api.github.com/repos/kutsman/DataScienceLibrary/downloads', 'issues_url': 'https://api.github.com/repos/kutsman/DataScienceLibrary/issues{/number}', 'pulls_url': 'https://api.github.com/repos/kutsman/DataScienceLibrary/pulls{/number}', 'milestones_url': 'https://api.github.com/repos/kutsman/DataScienceLibrary/milestones{/number}', 'notifications_url': 'https://api.github.com/repos/kutsman/DataScienceLibrary/notifications{?since,all,participating}', 'labels_url': 'https://api.github.com/repos/kutsman/DataScienceLibrary/labels{/name}', 'releases_url': 'https://api.github.com/repos/kutsman/DataScienceLibrary/releases{/id}', 'deployments_url': 'https://api.github.com/repos/kutsman/DataScienceLibrary/deployments', 'created_at': '2022-11-05T23:40:35Z', 'updated_at': '2022-12-14T12:29:44Z', 'pushed_at': '2022-12-31T12:04:42Z', 'git_url': 'git://github.com/kutsman/DataScienceLibrary.git', 'ssh_url': 'git@github.com:kutsman/DataScienceLibrary.git', 'clone_url': 'https://github.com/kutsman/DataScienceLibrary.git', 'svn_url': 'https://github.com/kutsman/DataScienceLibrary', 'homepage': None, 'size': 2262, 'stargazers_count': 0, 'watchers_count': 0, 'language': 'Jupyter Notebook', 'has_issues': True, 'has_projects': True, 'has_downloads': True, 'has_wiki': True, 'has_pages': False, 'has_discussions': False, 'forks_count': 0, 'mirror_url': None, 'archived': False, 'disabled': False, 'open_issues_count': 2, 'license': None, 'allow_forking': True, 'is_template': False, 'web_commit_signoff_required': False, 'topics': [], 'visibility': 'public', 'forks': 0, 'open_issues': 2, 'watchers': 0, 'default_branch': 'main'}, {'id': 584474133, 'node_id': 'R_kgDOItZeFQ', 'name': 'lin_alg', 'full_name': 'kutsman/lin_alg', 'private': False, 'owner': {'login': 'kutsman', 'id': 103063854, 'node_id': 'U_kgDOBiShLg', 'avatar_url': 'https://avatars.githubusercontent.com/u/103063854?v=4', 'gravatar_id': '', 'url': 'https://api.github.com/users/kutsman', 'html_url': 'https://github.com/kutsman', 'followers_url': 'https://api.github.com/users/kutsman/followers', 'following_url': 'https://api.github.com/users/kutsman/following{/other_user}', 'gists_url': 'https://api.github.com/users/kutsman/gists{/gist_id}', 'starred_url': 'https://api.github.com/users/kutsman/starred{/owner}{/repo}', 'subscriptions_url': 'https://api.github.com/users/kutsman/subscriptions', 'organizations_url': 'https://api.github.com/users/kutsman/orgs', 'repos_url': 'https://api.github.com/users/kutsman/repos', 'events_url': 'https://api.github.com/users/kutsman/events{/privacy}', 'received_events_url': 'https://api.github.com/users/kutsman/received_events', 'type': 'User', 'site_admin': False}, 'html_url': 'https://github.com/kutsman/lin_alg', 'description': None, 'fork': False, 'url': 'https://api.github.com/repos/kutsman/lin_alg', 'forks_url': 'https://api.github.com/repos/kutsman/lin_alg/forks', 'keys_url': 'https://api.github.com/repos/kutsman/lin_alg/keys{/key_id}', 'collaborators_url': 'https://api.github.com/repos/kutsman/lin_alg/collaborators{/collaborator}', 'teams_url': 'https://api.github.com/repos/kutsman/lin_alg/teams', 'hooks_url': 'https://api.github.com/repos/kutsman/lin_alg/hooks', 'issue_events_url': 'https://api.github.com/repos/kutsman/lin_alg/issues/events{/number}', 'events_url': 'https://api.github.com/repos/kutsman/lin_alg/events', 'assignees_url': 'https://api.github.com/repos/kutsman/lin_alg/assignees{/user}', 'branches_url': 'https://api.github.com/repos/kutsman/lin_alg/branches{/branch}', 'tags_url': 'https://api.github.com/repos/kutsman/lin_alg/tags', 'blobs_url': 'https://api.github.com/repos/kutsman/lin_alg/git/blobs{/sha}', 'git_tags_url': 'https://api.github.com/repos/kutsman/lin_alg/git/tags{/sha}', 'git_refs_url': 'https://api.github.com/repos/kutsman/lin_alg/git/refs{/sha}', 'trees_url': 'https://api.github.com/repos/kutsman/lin_alg/git/trees{/sha}', 'statuses_url': 'https://api.github.com/repos/kutsman/lin_alg/statuses/{sha}', 'languages_url': 'https://api.github.com/repos/kutsman/lin_alg/languages', 'stargazers_url': 'https://api.github.com/repos/kutsman/lin_alg/stargazers', 'contributors_url': 'https://api.github.com/repos/kutsman/lin_alg/contributors', 'subscribers_url': 'https://api.github.com/repos/kutsman/lin_alg/subscribers', 'subscription_url': 'https://api.github.com/repos/kutsman/lin_alg/subscription', 'commits_url': 'https://api.github.com/repos/kutsman/lin_alg/commits{/sha}', 'git_commits_url': 'https://api.github.com/repos/kutsman/lin_alg/git/commits{/sha}', 'comments_url': 'https://api.github.com/repos/kutsman/lin_alg/comments{/number}', 'issue_comment_url': 'https://api.github.com/repos/kutsman/lin_alg/issues/comments{/number}', 'contents_url': 'https://api.github.com/repos/kutsman/lin_alg/contents/{+path}', 'compare_url': 'https://api.github.com/repos/kutsman/lin_alg/compare/{base}...{head}', 'merges_url': 'https://api.github.com/repos/kutsman/lin_alg/merges', 'archive_url': 'https://api.github.com/repos/kutsman/lin_alg/{archive_format}{/ref}', 'downloads_url': 'https://api.github.com/repos/kutsman/lin_alg/downloads', 'issues_url': 'https://api.github.com/repos/kutsman/lin_alg/issues{/number}', 'pulls_url': 'https://api.github.com/repos/kutsman/lin_alg/pulls{/number}', 'milestones_url': 'https://api.github.com/repos/kutsman/lin_alg/milestones{/number}', 'notifications_url': 'https://api.github.com/repos/kutsman/lin_alg/notifications{?since,all,participating}', 'labels_url': 'https://api.github.com/repos/kutsman/lin_alg/labels{/name}', 'releases_url': 'https://api.github.com/repos/kutsman/lin_alg/releases{/id}', 'deployments_url': 'https://api.github.com/repos/kutsman/lin_alg/deployments', 'created_at': '2023-01-02T17:07:44Z', 'updated_at': '2023-01-02T17:08:16Z', 'pushed_at': '2023-02-06T18:11:04Z', 'git_url': 'git://github.com/kutsman/lin_alg.git', 'ssh_url': 'git@github.com:kutsman/lin_alg.git', 'clone_url': 'https://github.com/kutsman/lin_alg.git', 'svn_url': 'https://github.com/kutsman/lin_alg', 'homepage': None, 'size': 32, 'stargazers_count': 0, 'watchers_count': 0, 'language': 'Jupyter Notebook', 'has_issues': True, 'has_projects': True, 'has_downloads': True, 'has_wiki': True, 'has_pages': False, 'has_discussions': False, 'forks_count': 0, 'mirror_url': None, 'archived': False, 'disabled': False, 'open_issues_count': 2, 'license': None, 'allow_forking': True, 'is_template': False, 'web_commit_signoff_required': False, 'topics': [], 'visibility': 'public', 'forks': 0, 'open_issues': 2, 'watchers': 0, 'default_branch': 'main'}, {'id': 590861278, 'node_id': 'R_kgDOIzfT3g', 'name': 'math_stat', 'full_name': 'kutsman/math_stat', 'private': False, 'owner': {'login': 'kutsman', 'id': 103063854, 'node_id': 'U_kgDOBiShLg', 'avatar_url': 'https://avatars.githubusercontent.com/u/103063854?v=4', 'gravatar_id': '', 'url': 'https://api.github.com/users/kutsman', 'html_url': 'https://github.com/kutsman', 'followers_url': 'https://api.github.com/users/kutsman/followers', 'following_url': 'https://api.github.com/users/kutsman/following{/other_user}', 'gists_url': 'https://api.github.com/users/kutsman/gists{/gist_id}', 'starred_url': 'https://api.github.com/users/kutsman/starred{/owner}{/repo}', 'subscriptions_url': 'https://api.github.com/users/kutsman/subscriptions', 'organizations_url': 'https://api.github.com/users/kutsman/orgs', 'repos_url': 'https://api.github.com/users/kutsman/repos', 'events_url': 'https://api.github.com/users/kutsman/events{/privacy}', 'received_events_url': 'https://api.github.com/users/kutsman/received_events', 'type': 'User', 'site_admin': False}, 'html_url': 'https://github.com/kutsman/math_stat', 'description': 'Mathematical Statistics', 'fork': False, 'url': 'https://api.github.com/repos/kutsman/math_stat', 'forks_url': 'https://api.github.com/repos/kutsman/math_stat/forks', 'keys_url': 'https://api.github.com/repos/kutsman/math_stat/keys{/key_id}', 'collaborators_url': 'https://api.github.com/repos/kutsman/math_stat/collaborators{/collaborator}', 'teams_url': 'https://api.github.com/repos/kutsman/math_stat/teams', 'hooks_url': 'https://api.github.com/repos/kutsman/math_stat/hooks', 'issue_events_url': 'https://api.github.com/repos/kutsman/math_stat/issues/events{/number}', 'events_url': 'https://api.github.com/repos/kutsman/math_stat/events', 'assignees_url': 'https://api.github.com/repos/kutsman/math_stat/assignees{/user}', 'branches_url': 'https://api.github.com/repos/kutsman/math_stat/branches{/branch}', 'tags_url': 'https://api.github.com/repos/kutsman/math_stat/tags', 'blobs_url': 'https://api.github.com/repos/kutsman/math_stat/git/blobs{/sha}', 'git_tags_url': 'https://api.github.com/repos/kutsman/math_stat/git/tags{/sha}', 'git_refs_url': 'https://api.github.com/repos/kutsman/math_stat/git/refs{/sha}', 'trees_url': 'https://api.github.com/repos/kutsman/math_stat/git/trees{/sha}', 'statuses_url': 'https://api.github.com/repos/kutsman/math_stat/statuses/{sha}', 'languages_url': 'https://api.github.com/repos/kutsman/math_stat/languages', 'stargazers_url': 'https://api.github.com/repos/kutsman/math_stat/stargazers', 'contributors_url': 'https://api.github.com/repos/kutsman/math_stat/contributors', 'subscribers_url': 'https://api.github.com/repos/kutsman/math_stat/subscribers', 'subscription_url': 'https://api.github.com/repos/kutsman/math_stat/subscription', 'commits_url': 'https://api.github.com/repos/kutsman/math_stat/commits{/sha}', 'git_commits_url': 'https://api.github.com/repos/kutsman/math_stat/git/commits{/sha}', 'comments_url': 'https://api.github.com/repos/kutsman/math_stat/comments{/number}', 'issue_comment_url': 'https://api.github.com/repos/kutsman/math_stat/issues/comments{/number}', 'contents_url': 'https://api.github.com/repos/kutsman/math_stat/contents/{+path}', 'compare_url': 'https://api.github.com/repos/kutsman/math_stat/compare/{base}...{head}', 'merges_url': 'https://api.github.com/repos/kutsman/math_stat/merges', 'archive_url': 'https://api.github.com/repos/kutsman/math_stat/{archive_format}{/ref}', 'downloads_url': 'https://api.github.com/repos/kutsman/math_stat/downloads', 'issues_url': 'https://api.github.com/repos/kutsman/math_stat/issues{/number}', 'pulls_url': 'https://api.github.com/repos/kutsman/math_stat/pulls{/number}', 'milestones_url': 'https://api.github.com/repos/kutsman/math_stat/milestones{/number}', 'notifications_url': 'https://api.github.com/repos/kutsman/math_stat/notifications{?since,all,participating}', 'labels_url': 'https://api.github.com/repos/kutsman/math_stat/labels{/name}', 'releases_url': 'https://api.github.com/repos/kutsman/math_stat/releases{/id}', 'deployments_url': 'https://api.github.com/repos/kutsman/math_stat/deployments', 'created_at': '2023-01-19T11:41:46Z', 'updated_at': '2023-01-19T11:41:46Z', 'pushed_at': '2023-02-08T17:33:09Z', 'git_url': 'git://github.com/kutsman/math_stat.git', 'ssh_url': 'git@github.com:kutsman/math_stat.git', 'clone_url': 'https://github.com/kutsman/math_stat.git', 'svn_url': 'https://github.com/kutsman/math_stat', 'homepage': None, 'size': 93, 'stargazers_count': 0, 'watchers_count': 0, 'language': None, 'has_issues': True, 'has_projects': True, 'has_downloads': True, 'has_wiki': True, 'has_pages': False, 'has_discussions': False, 'forks_count': 0, 'mirror_url': None, 'archived': False, 'disabled': False, 'open_issues_count': 0, 'license': None, 'allow_forking': True, 'is_template': False, 'web_commit_signoff_required': False, 'topics': [], 'visibility': 'public', 'forks': 0, 'open_issues': 0, 'watchers': 0, 'default_branch': 'main'}, {'id': 478328378, 'node_id': 'R_kgDOHIK2Og', 'name': 'Python', 'full_name': 'kutsman/Python', 'private': False, 'owner': {'login': 'kutsman', 'id': 103063854, 'node_id': 'U_kgDOBiShLg', 'avatar_url': 'https://avatars.githubusercontent.com/u/103063854?v=4', 'gravatar_id': '', 'url': 'https://api.github.com/users/kutsman', 'html_url': 'https://github.com/kutsman', 'followers_url': 'https://api.github.com/users/kutsman/followers', 'following_url': 'https://api.github.com/users/kutsman/following{/other_user}', 'gists_url': 'https://api.github.com/users/kutsman/gists{/gist_id}', 'starred_url': 'https://api.github.com/users/kutsman/starred{/owner}{/repo}', 'subscriptions_url': 'https://api.github.com/users/kutsman/subscriptions', 'organizations_url': 'https://api.github.com/users/kutsman/orgs', 'repos_url': 'https://api.github.com/users/kutsman/repos', 'events_url': 'https://api.github.com/users/kutsman/events{/privacy}', 'received_events_url': 'https://api.github.com/users/kutsman/received_events', 'type': 'User', 'site_admin': False}, 'html_url': 'https://github.com/kutsman/Python', 'description': 'Домашние задания к урокам Python', 'fork': False, 'url': 'https://api.github.com/repos/kutsman/Python', 'forks_url': 'https://api.github.com/repos/kutsman/Python/forks', 'keys_url': 'https://api.github.com/repos/kutsman/Python/keys{/key_id}', 'collaborators_url': 'https://api.github.com/repos/kutsman/Python/collaborators{/collaborator}', 'teams_url': 'https://api.github.com/repos/kutsman/Python/teams', 'hooks_url': 'https://api.github.com/repos/kutsman/Python/hooks', 'issue_events_url': 'https://api.github.com/repos/kutsman/Python/issues/events{/number}', 'events_url': 'https://api.github.com/repos/kutsman/Python/events', 'assignees_url': 'https://api.github.com/repos/kutsman/Python/assignees{/user}', 'branches_url': 'https://api.github.com/repos/kutsman/Python/branches{/branch}', 'tags_url': 'https://api.github.com/repos/kutsman/Python/tags', 'blobs_url': 'https://api.github.com/repos/kutsman/Python/git/blobs{/sha}', 'git_tags_url': 'https://api.github.com/repos/kutsman/Python/git/tags{/sha}', 'git_refs_url': 'https://api.github.com/repos/kutsman/Python/git/refs{/sha}', 'trees_url': 'https://api.github.com/repos/kutsman/Python/git/trees{/sha}', 'statuses_url': 'https://api.github.com/repos/kutsman/Python/statuses/{sha}', 'languages_url': 'https://api.github.com/repos/kutsman/Python/languages', 'stargazers_url': 'https://api.github.com/repos/kutsman/Python/stargazers', 'contributors_url': 'https://api.github.com/repos/kutsman/Python/contributors', 'subscribers_url': 'https://api.github.com/repos/kutsman/Python/subscribers', 'subscription_url': 'https://api.github.com/repos/kutsman/Python/subscription', 'commits_url': 'https://api.github.com/repos/kutsman/Python/commits{/sha}', 'git_commits_url': 'https://api.github.com/repos/kutsman/Python/git/commits{/sha}', 'comments_url': 'https://api.github.com/repos/kutsman/Python/comments{/number}', 'issue_comment_url': 'https://api.github.com/repos/kutsman/Python/issues/comments{/number}', 'contents_url': 'https://api.github.com/repos/kutsman/Python/contents/{+path}', 'compare_url': 'https://api.github.com/repos/kutsman/Python/compare/{base}...{head}', 'merges_url': 'https://api.github.com/repos/kutsman/Python/merges', 'archive_url': 'https://api.github.com/repos/kutsman/Python/{archive_format}{/ref}', 'downloads_url': 'https://api.github.com/repos/kutsman/Python/downloads', 'issues_url': 'https://api.github.com/repos/kutsman/Python/issues{/number}', 'pulls_url': 'https://api.github.com/repos/kutsman/Python/pulls{/number}', 'milestones_url': 'https://api.github.com/repos/kutsman/Python/milestones{/number}', 'notifications_url': 'https://api.github.com/repos/kutsman/Python/notifications{?since,all,participating}', 'labels_url': 'https://api.github.com/repos/kutsman/Python/labels{/name}', 'releases_url': 'https://api.github.com/repos/kutsman/Python/releases{/id}', 'deployments_url': 'https://api.github.com/repos/kutsman/Python/deployments', 'created_at': '2022-04-05T23:05:45Z', 'updated_at': '2022-04-05T23:05:45Z', 'pushed_at': '2022-05-24T15:29:37Z', 'git_url': 'git://github.com/kutsman/Python.git', 'ssh_url': 'git@github.com:kutsman/Python.git', 'clone_url': 'https://github.com/kutsman/Python.git', 'svn_url': 'https://github.com/kutsman/Python', 'homepage': None, 'size': 46, 'stargazers_count': 0, 'watchers_count': 0, 'language': None, 'has_issues': True, 'has_projects': True, 'has_downloads': True, 'has_wiki': True, 'has_pages': False, 'has_discussions': False, 'forks_count': 0, 'mirror_url': None, 'archived': False, 'disabled': False, 'open_issues_count': 8, 'license': {'key': 'gpl-3.0', 'name': 'GNU General Public License v3.0', 'spdx_id': 'GPL-3.0', 'url': 'https://api.github.com/licenses/gpl-3.0', 'node_id': 'MDc6TGljZW5zZTk='}, 'allow_forking': True, 'is_template': False, 'web_commit_signoff_required': False, 'topics': [], 'visibility': 'public', 'forks': 0, 'open_issues': 8, 'watchers': 0, 'default_branch': 'main'}, {'id': 478305122, 'node_id': 'R_kgDOHIJbYg', 'name': 'Python_lesson_1', 'full_name': 'kutsman/Python_lesson_1', 'private': False, 'owner': {'login': 'kutsman', 'id': 103063854, 'node_id': 'U_kgDOBiShLg', 'avatar_url': 'https://avatars.githubusercontent.com/u/103063854?v=4', 'gravatar_id': '', 'url': 'https://api.github.com/users/kutsman', 'html_url': 'https://github.com/kutsman', 'followers_url': 'https://api.github.com/users/kutsman/followers', 'following_url': 'https://api.github.com/users/kutsman/following{/other_user}', 'gists_url': 'https://api.github.com/users/kutsman/gists{/gist_id}', 'starred_url': 'https://api.github.com/users/kutsman/starred{/owner}{/repo}', 'subscriptions_url': 'https://api.github.com/users/kutsman/subscriptions', 'organizations_url': 'https://api.github.com/users/kutsman/orgs', 'repos_url': 'https://api.github.com/users/kutsman/repos', 'events_url': 'https://api.github.com/users/kutsman/events{/privacy}', 'received_events_url': 'https://api.github.com/users/kutsman/received_events', 'type': 'User', 'site_admin': False}, 'html_url': 'https://github.com/kutsman/Python_lesson_1', 'description': 'Практическое задание к 1 уроку', 'fork': False, 'url': 'https://api.github.com/repos/kutsman/Python_lesson_1', 'forks_url': 'https://api.github.com/repos/kutsman/Python_lesson_1/forks', 'keys_url': 'https://api.github.com/repos/kutsman/Python_lesson_1/keys{/key_id}', 'collaborators_url': 'https://api.github.com/repos/kutsman/Python_lesson_1/collaborators{/collaborator}', 'teams_url': 'https://api.github.com/repos/kutsman/Python_lesson_1/teams', 'hooks_url': 'https://api.github.com/repos/kutsman/Python_lesson_1/hooks', 'issue_events_url': 'https://api.github.com/repos/kutsman/Python_lesson_1/issues/events{/number}', 'events_url': 'https://api.github.com/repos/kutsman/Python_lesson_1/events', 'assignees_url': 'https://api.github.com/repos/kutsman/Python_lesson_1/assignees{/user}', 'branches_url': 'https://api.github.com/repos/kutsman/Python_lesson_1/branches{/branch}', 'tags_url': 'https://api.github.com/repos/kutsman/Python_lesson_1/tags', 'blobs_url': 'https://api.github.com/repos/kutsman/Python_lesson_1/git/blobs{/sha}', 'git_tags_url': 'https://api.github.com/repos/kutsman/Python_lesson_1/git/tags{/sha}', 'git_refs_url': 'https://api.github.com/repos/kutsman/Python_lesson_1/git/refs{/sha}', 'trees_url': 'https://api.github.com/repos/kutsman/Python_lesson_1/git/trees{/sha}', 'statuses_url': 'https://api.github.com/repos/kutsman/Python_lesson_1/statuses/{sha}', 'languages_url': 'https://api.github.com/repos/kutsman/Python_lesson_1/languages', 'stargazers_url': 'https://api.github.com/repos/kutsman/Python_lesson_1/stargazers', 'contributors_url': 'https://api.github.com/repos/kutsman/Python_lesson_1/contributors', 'subscribers_url': 'https://api.github.com/repos/kutsman/Python_lesson_1/subscribers', 'subscription_url': 'https://api.github.com/repos/kutsman/Python_lesson_1/subscription', 'commits_url': 'https://api.github.com/repos/kutsman/Python_lesson_1/commits{/sha}', 'git_commits_url': 'https://api.github.com/repos/kutsman/Python_lesson_1/git/commits{/sha}', 'comments_url': 'https://api.github.com/repos/kutsman/Python_lesson_1/comments{/number}', 'issue_comment_url': 'https://api.github.com/repos/kutsman/Python_lesson_1/issues/comments{/number}', 'contents_url': 'https://api.github.com/repos/kutsman/Python_lesson_1/contents/{+path}', 'compare_url': 'https://api.github.com/repos/kutsman/Python_lesson_1/compare/{base}...{head}', 'merges_url': 'https://api.github.com/repos/kutsman/Python_lesson_1/merges', 'archive_url': 'https://api.github.com/repos/kutsman/Python_lesson_1/{archive_format}{/ref}', 'downloads_url': 'https://api.github.com/repos/kutsman/Python_lesson_1/downloads', 'issues_url': 'https://api.github.com/repos/kutsman/Python_lesson_1/issues{/number}', 'pulls_url': 'https://api.github.com/repos/kutsman/Python_lesson_1/pulls{/number}', 'milestones_url': 'https://api.github.com/repos/kutsman/Python_lesson_1/milestones{/number}', 'notifications_url': 'https://api.github.com/repos/kutsman/Python_lesson_1/notifications{?since,all,participating}', 'labels_url': 'https://api.github.com/repos/kutsman/Python_lesson_1/labels{/name}', 'releases_url': 'https://api.github.com/repos/kutsman/Python_lesson_1/releases{/id}', 'deployments_url': 'https://api.github.com/repos/kutsman/Python_lesson_1/deployments', 'created_at': '2022-04-05T21:24:31Z', 'updated_at': '2022-04-05T22:25:29Z', 'pushed_at': '2022-04-05T22:48:12Z', 'git_url': 'git://github.com/kutsman/Python_lesson_1.git', 'ssh_url': 'git@github.com:kutsman/Python_lesson_1.git', 'clone_url': 'https://github.com/kutsman/Python_lesson_1.git', 'svn_url': 'https://github.com/kutsman/Python_lesson_1', 'homepage': None, 'size': 4, 'stargazers_count': 0, 'watchers_count': 0, 'language': 'Python', 'has_issues': True, 'has_projects': True, 'has_downloads': True, 'has_wiki': True, 'has_pages': False, 'has_discussions': False, 'forks_count': 0, 'mirror_url': None, 'archived': False, 'disabled': False, 'open_issues_count': 0, 'license': None, 'allow_forking': True, 'is_template': False, 'web_commit_signoff_required': False, 'topics': [], 'visibility': 'public', 'forks': 0, 'open_issues': 0, 'watchers': 0, 'default_branch': 'main'}]\n"
     ]
    }
   ],
   "source": [
    "response = requests.get(url).json()\n",
    "print(f'Получен результат: {response}')"
   ]
  },
  {
   "cell_type": "code",
   "execution_count": 6,
   "id": "9c745b9c",
   "metadata": {},
   "outputs": [
    {
     "name": "stdout",
     "output_type": "stream",
     "text": [
      "Список репозиториев пользователя kutsman: DataScienceLibrary\n",
      "Список репозиториев пользователя kutsman: lin_alg\n",
      "Список репозиториев пользователя kutsman: math_stat\n",
      "Список репозиториев пользователя kutsman: Python\n",
      "Список репозиториев пользователя kutsman: Python_lesson_1\n"
     ]
    }
   ],
   "source": [
    "for i in response:    \n",
    "    print(f'Список репозиториев пользователя {username}: {i[\"name\"]}')"
   ]
  },
  {
   "cell_type": "code",
   "execution_count": 7,
   "id": "2c8f02f8",
   "metadata": {},
   "outputs": [
    {
     "name": "stdout",
     "output_type": "stream",
     "text": [
      "Список репозиториев пользователя kutsman: ['DataScienceLibrary', 'lin_alg', 'math_stat', 'Python', 'Python_lesson_1']\n"
     ]
    }
   ],
   "source": [
    "repositories = []\n",
    "for i in response:\n",
    "    repositories.append(i[\"name\"])\n",
    "print(f'Список репозиториев пользователя {username}: {repositories}')"
   ]
  },
  {
   "cell_type": "code",
   "execution_count": 14,
   "id": "3b233e39",
   "metadata": {},
   "outputs": [],
   "source": [
    "with open('lesson_1_1_repositories.json', 'w') as f:\n",
    "    json_repositories = json.dump(repositories, f) #создаем файл *.json и записываем туда список репозиториев"
   ]
  },
  {
   "cell_type": "markdown",
   "id": "f3d849a9",
   "metadata": {},
   "source": [
    "Задание 2. Изучить список открытых API (https://www.programmableweb.com/category/all/apis). Найти среди них любое, требующее авторизацию (любого типа). Выполнить запросы к нему, пройдя авторизацию. Ответ сервера записать в файл.\n",
    "Если нет желания заморачиваться с поиском, возьмите API вконтакте (https://vk.com/dev/first_guide). Сделайте запрос, чтобы получить список всех сообществ на которые вы подписаны."
   ]
  },
  {
   "cell_type": "code",
   "execution_count": 9,
   "id": "ec765ce6",
   "metadata": {},
   "outputs": [],
   "source": [
    "API_key = 'e533782b75fae1bfc6e485549dbb2413'\n",
    "#url = 'https://samples.openweathermap.org/data/2.5/weather'\n",
    "url = 'https://api.openweathermap.org/data/2.5/weather'"
   ]
  },
  {
   "cell_type": "code",
   "execution_count": 10,
   "id": "810a0b30",
   "metadata": {},
   "outputs": [],
   "source": [
    "city_name = \"Berlin\" # запрос погоды в Берлине\n",
    "country_code = \"DE\""
   ]
  },
  {
   "cell_type": "code",
   "execution_count": 11,
   "id": "04292a64",
   "metadata": {},
   "outputs": [],
   "source": [
    "#https://api.openweathermap.org/data/2.5/weather?lat={lat}&lon={lon}&appid={API key} #по координатам\n",
    "#https://api.openweathermap.org/data/2.5/weather?q={city name},{country code}&appid={API key} # по городу, стране\n",
    "#https://api.openweathermap.org/data/2.5/weather?q={city name},{state code},{country code}&appid={API key} # по городу, штату, стране\n",
    "response = requests.get(f'{url}?q={city_name},{country_code}&appid={API_key}').json()"
   ]
  },
  {
   "cell_type": "code",
   "execution_count": 12,
   "id": "9caa7354",
   "metadata": {
    "scrolled": true
   },
   "outputs": [
    {
     "data": {
      "text/plain": [
       "{'coord': {'lon': 13.4105, 'lat': 52.5244},\n",
       " 'weather': [{'id': 300,\n",
       "   'main': 'Drizzle',\n",
       "   'description': 'light intensity drizzle',\n",
       "   'icon': '09d'},\n",
       "  {'id': 701, 'main': 'Mist', 'description': 'mist', 'icon': '50d'}],\n",
       " 'base': 'stations',\n",
       " 'main': {'temp': 279.93,\n",
       "  'feels_like': 275.37,\n",
       "  'temp_min': 279.16,\n",
       "  'temp_max': 280.36,\n",
       "  'pressure': 1016,\n",
       "  'humidity': 93},\n",
       " 'visibility': 4400,\n",
       " 'wind': {'speed': 8.94, 'deg': 257, 'gust': 12.96},\n",
       " 'clouds': {'all': 100},\n",
       " 'dt': 1676120640,\n",
       " 'sys': {'type': 2,\n",
       "  'id': 2011538,\n",
       "  'country': 'DE',\n",
       "  'sunrise': 1676097086,\n",
       "  'sunset': 1676131794},\n",
       " 'timezone': 3600,\n",
       " 'id': 2950159,\n",
       " 'name': 'Berlin',\n",
       " 'cod': 200}"
      ]
     },
     "execution_count": 12,
     "metadata": {},
     "output_type": "execute_result"
    }
   ],
   "source": [
    "response"
   ]
  },
  {
   "cell_type": "code",
   "execution_count": 13,
   "id": "f2579d00",
   "metadata": {
    "scrolled": true
   },
   "outputs": [],
   "source": [
    "with open('lesson_1_2_weather.json', 'w') as f:\n",
    "    json_response = json.dump(response, f) #создаем файл *.json и записываем туда данные о погоде в Берлине"
   ]
  },
  {
   "cell_type": "code",
   "execution_count": null,
   "id": "4958c94a",
   "metadata": {},
   "outputs": [],
   "source": []
  }
 ],
 "metadata": {
  "kernelspec": {
   "display_name": "Python 3 (ipykernel)",
   "language": "python",
   "name": "python3"
  },
  "language_info": {
   "codemirror_mode": {
    "name": "ipython",
    "version": 3
   },
   "file_extension": ".py",
   "mimetype": "text/x-python",
   "name": "python",
   "nbconvert_exporter": "python",
   "pygments_lexer": "ipython3",
   "version": "3.8.10"
  }
 },
 "nbformat": 4,
 "nbformat_minor": 5
}
