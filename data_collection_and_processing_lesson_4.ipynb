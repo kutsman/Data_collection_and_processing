{
  "nbformat": 4,
  "nbformat_minor": 0,
  "metadata": {
    "colab": {
      "provenance": []
    },
    "kernelspec": {
      "name": "python3",
      "display_name": "Python 3"
    },
    "language_info": {
      "name": "python"
    }
  },
  "cells": [
    {
      "cell_type": "markdown",
      "source": [
        "### 1. Развернуть у себя на компьютере/виртуальной машине/хостинге MongoDB..."
      ],
      "metadata": {
        "id": "GunYrXcrsCVD"
      }
    },
    {
      "cell_type": "code",
      "execution_count": 55,
      "metadata": {
        "colab": {
          "base_uri": "https://localhost:8080/"
        },
        "id": "6FurWMBWC_hv",
        "outputId": "b7436b0d-ae36-497b-ba7f-bb4991f32432"
      },
      "outputs": [
        {
          "output_type": "stream",
          "name": "stdout",
          "text": [
            "\n",
            "WARNING: apt does not have a stable CLI interface. Use with caution in scripts.\n",
            "\n"
          ]
        }
      ],
      "source": [
        "!apt install mongodb > log"
      ]
    },
    {
      "cell_type": "code",
      "source": [
        "!service mongodb start"
      ],
      "metadata": {
        "colab": {
          "base_uri": "https://localhost:8080/"
        },
        "id": "oSQk3OBjDFxN",
        "outputId": "56a3de1c-741e-47d6-dc0f-249d81814fc8"
      },
      "execution_count": 56,
      "outputs": [
        {
          "output_type": "stream",
          "name": "stdout",
          "text": [
            " * Starting database mongodb\n",
            "   ...done.\n"
          ]
        }
      ]
    },
    {
      "cell_type": "code",
      "source": [
        "!mongo"
      ],
      "metadata": {
        "colab": {
          "base_uri": "https://localhost:8080/"
        },
        "id": "KBb8Xwfjbl3v",
        "outputId": "573a91ff-6c0a-4491-a6da-75985397c2cc"
      },
      "execution_count": 57,
      "outputs": [
        {
          "output_type": "stream",
          "name": "stdout",
          "text": [
            "MongoDB shell version v3.6.8\n",
            "connecting to: mongodb://127.0.0.1:27017\n",
            "Implicit session: session { \"id\" : UUID(\"ab346757-9e9c-4bbc-b497-283bf9aad9f5\") }\n",
            "MongoDB server version: 3.6.8\n",
            "Server has startup warnings: \n",
            "2023-03-01T18:25:16.341+0000 I CONTROL  [initandlisten] \n",
            "2023-03-01T18:25:16.341+0000 I CONTROL  [initandlisten] ** WARNING: Access control is not enabled for the database.\n",
            "2023-03-01T18:25:16.341+0000 I CONTROL  [initandlisten] **          Read and write access to data and configuration is unrestricted.\n",
            "2023-03-01T18:25:16.341+0000 I CONTROL  [initandlisten] \n",
            "> 2023-03-01T18:34:46.479+0000 I CONTROL  [main] shutting down with code:0\n"
          ]
        }
      ]
    },
    {
      "cell_type": "code",
      "source": [
        "!pip install pymongo"
      ],
      "metadata": {
        "colab": {
          "base_uri": "https://localhost:8080/"
        },
        "id": "JwP2g2F8EkZH",
        "outputId": "3ce2db6d-39ad-4a9d-a912-51a74a7880a2"
      },
      "execution_count": 58,
      "outputs": [
        {
          "output_type": "stream",
          "name": "stdout",
          "text": [
            "Looking in indexes: https://pypi.org/simple, https://us-python.pkg.dev/colab-wheels/public/simple/\n",
            "Requirement already satisfied: pymongo in /usr/local/lib/python3.8/dist-packages (4.3.3)\n",
            "Requirement already satisfied: dnspython<3.0.0,>=1.16.0 in /usr/local/lib/python3.8/dist-packages (from pymongo) (2.3.0)\n"
          ]
        }
      ]
    },
    {
      "cell_type": "code",
      "source": [
        "from pymongo import MongoClient"
      ],
      "metadata": {
        "id": "5RQ4ScpPEpdq"
      },
      "execution_count": 59,
      "outputs": []
    },
    {
      "cell_type": "code",
      "source": [
        "mongo_db = MongoClient()"
      ],
      "metadata": {
        "id": "bALhVE9_GEY7"
      },
      "execution_count": 60,
      "outputs": []
    },
    {
      "cell_type": "code",
      "source": [
        "mongo_db"
      ],
      "metadata": {
        "colab": {
          "base_uri": "https://localhost:8080/"
        },
        "id": "0-Fb90g3dk-S",
        "outputId": "8bfd85bd-bfbd-4fc9-966f-505404f71242"
      },
      "execution_count": 61,
      "outputs": [
        {
          "output_type": "execute_result",
          "data": {
            "text/plain": [
              "MongoClient(host=['localhost:27017'], document_class=dict, tz_aware=False, connect=True)"
            ]
          },
          "metadata": {},
          "execution_count": 61
        }
      ]
    },
    {
      "cell_type": "code",
      "source": [
        "db = mongo_db['vacancy_db']"
      ],
      "metadata": {
        "id": "-XzcMVJaJw3h"
      },
      "execution_count": 62,
      "outputs": []
    },
    {
      "cell_type": "code",
      "source": [
        "db"
      ],
      "metadata": {
        "colab": {
          "base_uri": "https://localhost:8080/"
        },
        "id": "LSC3JE5yduW-",
        "outputId": "aea8ffeb-5de4-4b07-bd0c-2214a61149b7"
      },
      "execution_count": 63,
      "outputs": [
        {
          "output_type": "execute_result",
          "data": {
            "text/plain": [
              "Database(MongoClient(host=['localhost:27017'], document_class=dict, tz_aware=False, connect=True), 'vacancy_db')"
            ]
          },
          "metadata": {},
          "execution_count": 63
        }
      ]
    },
    {
      "cell_type": "code",
      "source": [
        "list(mongo_db.list_database_names())"
      ],
      "metadata": {
        "colab": {
          "base_uri": "https://localhost:8080/"
        },
        "id": "0y6Ry8HdeQEe",
        "outputId": "7e96ac78-3d85-4695-b477-092d4344b841"
      },
      "execution_count": 65,
      "outputs": [
        {
          "output_type": "execute_result",
          "data": {
            "text/plain": [
              "['admin', 'config', 'local']"
            ]
          },
          "metadata": {},
          "execution_count": 65
        }
      ]
    },
    {
      "cell_type": "code",
      "source": [
        "db['vacancy']"
      ],
      "metadata": {
        "colab": {
          "base_uri": "https://localhost:8080/"
        },
        "id": "aAWaitTgKxpj",
        "outputId": "4797e616-ae3c-49e9-8cf7-6c0e5592e6e2"
      },
      "execution_count": 66,
      "outputs": [
        {
          "output_type": "execute_result",
          "data": {
            "text/plain": [
              "Collection(Database(MongoClient(host=['localhost:27017'], document_class=dict, tz_aware=False, connect=True), 'vacancy_db'), 'vacancy')"
            ]
          },
          "metadata": {},
          "execution_count": 66
        }
      ]
    },
    {
      "cell_type": "code",
      "source": [
        "collection = db['vacancy']"
      ],
      "metadata": {
        "id": "xOneGcZygAWl"
      },
      "execution_count": 77,
      "outputs": []
    },
    {
      "cell_type": "code",
      "source": [
        "collection.insert_one({'vacancy_name': 'Инженер-программист',\n",
        "  'company_name': 'ФГБОУ ВО ТГМУ Минздрава России',\n",
        "  'company_city': 'Владивосток',\n",
        "  'salary_min': 20000,\n",
        "  'salary_max': 30000,\n",
        "  'salary_currency': '₽',\n",
        "  'vacancy_link': 'https://hh.ru/search/vacancy/vakansii/inzhener-programmist-44190893.html',\n",
        "  'site': 'https://www.superjob.ru/'})"
      ],
      "metadata": {
        "colab": {
          "base_uri": "https://localhost:8080/"
        },
        "id": "BxCgjdblYpiV",
        "outputId": "e2e5d6f2-4a58-4382-9c00-faae656370ed"
      },
      "execution_count": 88,
      "outputs": [
        {
          "output_type": "execute_result",
          "data": {
            "text/plain": [
              "<pymongo.results.InsertOneResult object at 0x7ff51412b1f0>"
            ]
          },
          "metadata": {},
          "execution_count": 88
        }
      ]
    },
    {
      "cell_type": "code",
      "source": [
        "from pprint import pprint"
      ],
      "metadata": {
        "id": "cSuZQgpWgrZT"
      },
      "execution_count": 79,
      "outputs": []
    },
    {
      "cell_type": "code",
      "source": [
        "for i in collection.find(): # проверяем вывод добавленной вакансии\n",
        "  pprint(i)"
      ],
      "metadata": {
        "id": "npifvb7ufMyz"
      },
      "execution_count": 92,
      "outputs": []
    },
    {
      "cell_type": "code",
      "source": [
        "collection.delete_many({}) # удаляем все из коллекции"
      ],
      "metadata": {
        "colab": {
          "base_uri": "https://localhost:8080/"
        },
        "id": "9q4_wcpoibxS",
        "outputId": "464eb307-2f28-4bb7-8161-8252b974bb35"
      },
      "execution_count": 186,
      "outputs": [
        {
          "output_type": "execute_result",
          "data": {
            "text/plain": [
              "<pymongo.results.DeleteResult object at 0x7ff517fbf550>"
            ]
          },
          "metadata": {},
          "execution_count": 186
        }
      ]
    },
    {
      "cell_type": "markdown",
      "source": [
        "### ... и реализовать функцию, которая будет добавлять только новые вакансии/продукты в вашу базу."
      ],
      "metadata": {
        "id": "YnSHb1TxsO-A"
      }
    },
    {
      "cell_type": "code",
      "source": [
        "from bs4 import BeautifulSoup as bs\n",
        "import requests\n",
        "from lxml import html\n",
        "import re"
      ],
      "metadata": {
        "id": "6TUYQhqVLJeh"
      },
      "execution_count": 187,
      "outputs": []
    },
    {
      "cell_type": "code",
      "source": [
        "def parsing_hh():\n",
        "\n",
        "    url = 'https://hh.ru/search/vacancy'\n",
        "    headers = {\n",
        "                'User-Agent': \n",
        "        'Mozilla/5.0 (Windows NT 6.1; Win64; x64) AppleWebKit/537.36 (KHTML, like Gecko) Chrome/109.0.0.0 Safari/537.36'\n",
        "                }\n",
        "    \n",
        "    vacancy_search = []\n",
        "    \n",
        "    # ищем по ключевому слову Java\n",
        "    \n",
        "    params = { \n",
        "            'text': 'Java',              \n",
        "            'items_on_page': '100', \n",
        "            'page': ''}\n",
        "\n",
        "    response = requests.get(url, params = params, headers=headers)\n",
        "\n",
        "    html = bs(response.text,'html.parser')\n",
        "\n",
        "    # Зададим условие определения количество страниц с вакансиями в поисковой выдаче\n",
        "    pages = html.find('div', {'data-qa': 'pager-block'}) # ищем блок с страницами\n",
        "\n",
        "    if pages is None: # задаем условие проверки количества выдаваемых страниц с выбранной вакансией\n",
        "        page_numbers = '1' # если блока страниц нет, значит вакансий меньше чем умещается на одной странице и принимаем\n",
        "                           # количество страниц равным 1-ой\n",
        "    else:\n",
        "        page_numbers = int(pages.find_all('a', {'data-qa': 'pager-page'})[len(pages.find_all('a', {'data-qa': 'pager-page'}))-1].text)\n",
        "\n",
        "    for page in range(0, int(page_numbers)): # задаем условие парсинга с первой страницы и далее\n",
        "        params['page'] = page\n",
        "        response = requests.get(url, params = params, headers=headers)\n",
        "        html = bs(response.text,'html.parser')\n",
        "        vacancy_list = html.find('div', {'data-qa': 'vacancy-serp__results'}).find_all('div', {'class': 'serp-item'}) \n",
        "        # задаем путь к нашим контейнерам, которые содержат контейнеры вакансий\n",
        "     \n",
        "        for i in vacancy_list: # и начинаем вытаскивать из каждого элемента листа вакансий, информацию по каждой вакансии\n",
        "            \n",
        "            vacancy_search_dict = {}\n",
        "\n",
        "            vacancy_name = i.find('a', {'class': 'serp-item__title'}).getText()\n",
        "            company_name = i.find('div', {'class': 'vacancy-serp-item__meta-info-company'}).getText().replace(u'\\xa0', u' ')    \n",
        "            company_city = i.find('div', {'data-qa': 'vacancy-serp__vacancy-address'}).getText()\n",
        "            company_city = re.split(r', ', company_city)[0]\n",
        "            \n",
        "            # важно добавить условие нахождения самого тега <span>...данные по salary...<|span>, так как встречаются вакансии \n",
        "            # с комментарием \"з/п не указана\" с data-qa:\"vacancy-salary-compensation-type-undefined\" внутри карточки вакансии, \n",
        "            # но в списке поиска вакансий в блоке такой вакансии отсутствует <span> и если не проверять,то будет вылетать ошибка \n",
        "            \n",
        "            if i.find('span', {'data-qa': 'vacancy-serp__vacancy-compensation' }) is None:\n",
        "                salary_min = None\n",
        "                salary_max = None\n",
        "                salary_currency = None\n",
        "            else:\n",
        "                vacancy_salary_1 = i.find_next('span', {'data-qa': 'vacancy-serp__vacancy-compensation' }) \\\n",
        "                .getText().replace('\\u202f', '')\n",
        "                vacancy_salary = re.split(r'\\s|-', vacancy_salary_1)\n",
        "\n",
        "                # разбиваем строку с зарплатой на список\n",
        "                # так как ЗП может указываться в вариантах 300-400 руб. (тут будет len = 4), от 300 руб. (тут будет len = 3), \n",
        "                # до 400 руб. (тут будет тоже len = 3), то нужно прописать условия,\n",
        "                # при которых будут выбираться минимальное и максимальное значение и валюта(так как длина списка будет меняться)\n",
        "                \n",
        "                if vacancy_salary[0] == 'до':\n",
        "                    salary_min = None\n",
        "                    salary_max = int(vacancy_salary[1])\n",
        "                    salary_currency = vacancy_salary[2]\n",
        "                elif vacancy_salary[0] == 'от':\n",
        "                    salary_min = int(vacancy_salary[1])\n",
        "                    salary_max = None\n",
        "                    salary_currency = vacancy_salary[2]\n",
        "                else:\n",
        "                    salary_min = int(vacancy_salary[0])\n",
        "                    salary_max = int(vacancy_salary[2])            \n",
        "                    salary_currency = vacancy_salary[3]\n",
        "\n",
        "            vacancy_link = i.find('a', {'class': 'serp-item__title'})['href']       \n",
        "\n",
        "            vacancy_search_dict['vacancy_name'] = vacancy_name\n",
        "            vacancy_search_dict['company_name'] = company_name\n",
        "            vacancy_search_dict['company_city'] = company_city\n",
        "            vacancy_search_dict['salary_min'] = salary_min\n",
        "            vacancy_search_dict['salary_max'] = salary_max\n",
        "            vacancy_search_dict['salary_currency'] = salary_currency\n",
        "            vacancy_search_dict['vacancy_link'] = vacancy_link\n",
        "            vacancy_search_dict['site'] = url.replace('/search/vacancy', '')\n",
        "            vacancy_search.append(vacancy_search_dict)\n",
        "            # тут прописываем правило, что если в коллекции уже встречается подобная ссылка на вакансию, то мы обновляем оставшиеся данные,\n",
        "            # а если ссылки на вакансию в коллекции нет, то мы вносим в нее данную вакансию, таким образом записываются только новые вакансии\n",
        "            # if collection.find_one({'vacancy_link': { \"$in\": [vacancy_search_dict['vacancy_link']]}}):\n",
        "            if collection.find_one({'vacancy_link': vacancy_search_dict['vacancy_link']}):\n",
        "                collection.update_one(\n",
        "                    {'vacancy_link': vacancy_search_dict['vacancy_link']}, \n",
        "                    {'$set': {\n",
        "                        'vacancy_name': vacancy_search_dict['vacancy_name'], \n",
        "                        'company_name': vacancy_search_dict['company_name'], \n",
        "                        'company_city': vacancy_search_dict['company_city'], \n",
        "                        'salary_min': vacancy_search_dict['salary_min'], \n",
        "                        'salary_max': vacancy_search_dict['salary_max'], \n",
        "                        'salary_currency': vacancy_search_dict['salary_currency'], \n",
        "                        'site': vacancy_search_dict['site']\n",
        "                        }\n",
        "                     }\n",
        "                     )\n",
        "            else:\n",
        "                collection.insert_one(vacancy_search_dict)\n",
        "    \n",
        "            \n",
        "\n",
        "    #return vacancy_search"
      ],
      "metadata": {
        "id": "wQkv9vAlLi7U"
      },
      "execution_count": 188,
      "outputs": []
    },
    {
      "cell_type": "code",
      "source": [
        "parsing_hh()"
      ],
      "metadata": {
        "id": "hsU_aOyqWRvL"
      },
      "execution_count": 189,
      "outputs": []
    },
    {
      "cell_type": "code",
      "source": [
        "#for i in collection.find():\n",
        "    #pprint(i)   # закомментировал, чтобы не было большого списка"
      ],
      "metadata": {
        "id": "wYmYK1JXWTNQ"
      },
      "execution_count": 206,
      "outputs": []
    },
    {
      "cell_type": "markdown",
      "source": [
        "#### ниже вывод в виде DF, в подтверждении, что все работает:"
      ],
      "metadata": {
        "id": "bTWEbB82B_PP"
      }
    },
    {
      "cell_type": "code",
      "source": [
        "import pandas as pd\n",
        "df = pd.DataFrame(list(collection.find()))\n",
        "df"
      ],
      "metadata": {
        "colab": {
          "base_uri": "https://localhost:8080/",
          "height": 658
        },
        "id": "Zzj_Bz3Z3fSa",
        "outputId": "dcce50ba-7f91-45d2-a5e8-13c5faee4173"
      },
      "execution_count": 205,
      "outputs": [
        {
          "output_type": "execute_result",
          "data": {
            "text/plain": [
              "                          _id                                  vacancy_name  \\\n",
              "0    63ffbac6aa0cef74782e2cdc                Middle/Senior Java разработчик   \n",
              "1    63ffbac6aa0cef74782e2cdd                         Senior Java Developer   \n",
              "2    63ffbac6aa0cef74782e2cde                       Junior Java-разработчик   \n",
              "3    63ffbac6aa0cef74782e2cdf           Ведущий Java разработчик (удалённо)   \n",
              "4    63ffbac6aa0cef74782e2ce0  Младший Java-разработчик ( плавающий график)   \n",
              "..                        ...                                           ...   \n",
              "443  63ffbc9baa0cef74782e2e97                  QA Automation инженер (Java)   \n",
              "444  63ffbc9baa0cef74782e2e98         Senior/Middle Java Developer (remote)   \n",
              "445  63ffbc9baa0cef74782e2e99               Senior Backend разработчик/Java   \n",
              "446  63ffbc9baa0cef74782e2e9a                       QA Auto (Java) engineer   \n",
              "447  63ffbca3aa0cef74782e2e9b           Backend-разработчик (переход на GO)   \n",
              "\n",
              "                            company_name     company_city  salary_min  \\\n",
              "0                              ООО CLICK          Ташкент         NaN   \n",
              "1                            ЗАО Водород            Минск         NaN   \n",
              "2                            Аксиоматика        Волгоград     50000.0   \n",
              "3    АО НТЦ ЕЭС Информационные Комплексы           Москва    350000.0   \n",
              "4                ООО Темполайн Логистика           Москва         NaN   \n",
              "..                                   ...              ...         ...   \n",
              "443                      Bell Integrator           Москва         NaN   \n",
              "444                     ООО МКК А Деньги           Москва         NaN   \n",
              "445                         ООО Гриндата  Санкт-Петербург         NaN   \n",
              "446                                  IBS           Самара         NaN   \n",
              "447                                ITECO  Нижний Новгород         NaN   \n",
              "\n",
              "     salary_max salary_currency  \\\n",
              "0           NaN            None   \n",
              "1           NaN            None   \n",
              "2           NaN            руб.   \n",
              "3      400000.0            руб.   \n",
              "4       80000.0            руб.   \n",
              "..          ...             ...   \n",
              "443         NaN            None   \n",
              "444    300000.0            руб.   \n",
              "445         NaN            None   \n",
              "446         NaN            None   \n",
              "447         NaN            None   \n",
              "\n",
              "                                          vacancy_link           site  \n",
              "0    https://hh.ru/vacancy/77551177?from=vacancy_se...  https://hh.ru  \n",
              "1    https://hh.ru/vacancy/75884361?from=vacancy_se...  https://hh.ru  \n",
              "2    https://hh.ru/vacancy/77480446?from=vacancy_se...  https://hh.ru  \n",
              "3    https://hh.ru/vacancy/76643997?from=vacancy_se...  https://hh.ru  \n",
              "4    https://hh.ru/vacancy/76966049?from=vacancy_se...  https://hh.ru  \n",
              "..                                                 ...            ...  \n",
              "443  https://hh.ru/vacancy/77000881?from=vacancy_se...  https://hh.ru  \n",
              "444  https://hh.ru/vacancy/76685797?from=vacancy_se...  https://hh.ru  \n",
              "445  https://hh.ru/vacancy/75618834?from=vacancy_se...  https://hh.ru  \n",
              "446  https://hh.ru/vacancy/75776214?from=vacancy_se...  https://hh.ru  \n",
              "447  https://hh.ru/vacancy/77018930?from=vacancy_se...  https://hh.ru  \n",
              "\n",
              "[448 rows x 9 columns]"
            ],
            "text/html": [
              "\n",
              "  <div id=\"df-ed5a3dfd-ad8e-4341-94cd-5b26b7926bec\">\n",
              "    <div class=\"colab-df-container\">\n",
              "      <div>\n",
              "<style scoped>\n",
              "    .dataframe tbody tr th:only-of-type {\n",
              "        vertical-align: middle;\n",
              "    }\n",
              "\n",
              "    .dataframe tbody tr th {\n",
              "        vertical-align: top;\n",
              "    }\n",
              "\n",
              "    .dataframe thead th {\n",
              "        text-align: right;\n",
              "    }\n",
              "</style>\n",
              "<table border=\"1\" class=\"dataframe\">\n",
              "  <thead>\n",
              "    <tr style=\"text-align: right;\">\n",
              "      <th></th>\n",
              "      <th>_id</th>\n",
              "      <th>vacancy_name</th>\n",
              "      <th>company_name</th>\n",
              "      <th>company_city</th>\n",
              "      <th>salary_min</th>\n",
              "      <th>salary_max</th>\n",
              "      <th>salary_currency</th>\n",
              "      <th>vacancy_link</th>\n",
              "      <th>site</th>\n",
              "    </tr>\n",
              "  </thead>\n",
              "  <tbody>\n",
              "    <tr>\n",
              "      <th>0</th>\n",
              "      <td>63ffbac6aa0cef74782e2cdc</td>\n",
              "      <td>Middle/Senior Java разработчик</td>\n",
              "      <td>ООО CLICK</td>\n",
              "      <td>Ташкент</td>\n",
              "      <td>NaN</td>\n",
              "      <td>NaN</td>\n",
              "      <td>None</td>\n",
              "      <td>https://hh.ru/vacancy/77551177?from=vacancy_se...</td>\n",
              "      <td>https://hh.ru</td>\n",
              "    </tr>\n",
              "    <tr>\n",
              "      <th>1</th>\n",
              "      <td>63ffbac6aa0cef74782e2cdd</td>\n",
              "      <td>Senior Java Developer</td>\n",
              "      <td>ЗАО Водород</td>\n",
              "      <td>Минск</td>\n",
              "      <td>NaN</td>\n",
              "      <td>NaN</td>\n",
              "      <td>None</td>\n",
              "      <td>https://hh.ru/vacancy/75884361?from=vacancy_se...</td>\n",
              "      <td>https://hh.ru</td>\n",
              "    </tr>\n",
              "    <tr>\n",
              "      <th>2</th>\n",
              "      <td>63ffbac6aa0cef74782e2cde</td>\n",
              "      <td>Junior Java-разработчик</td>\n",
              "      <td>Аксиоматика</td>\n",
              "      <td>Волгоград</td>\n",
              "      <td>50000.0</td>\n",
              "      <td>NaN</td>\n",
              "      <td>руб.</td>\n",
              "      <td>https://hh.ru/vacancy/77480446?from=vacancy_se...</td>\n",
              "      <td>https://hh.ru</td>\n",
              "    </tr>\n",
              "    <tr>\n",
              "      <th>3</th>\n",
              "      <td>63ffbac6aa0cef74782e2cdf</td>\n",
              "      <td>Ведущий Java разработчик (удалённо)</td>\n",
              "      <td>АО НТЦ ЕЭС Информационные Комплексы</td>\n",
              "      <td>Москва</td>\n",
              "      <td>350000.0</td>\n",
              "      <td>400000.0</td>\n",
              "      <td>руб.</td>\n",
              "      <td>https://hh.ru/vacancy/76643997?from=vacancy_se...</td>\n",
              "      <td>https://hh.ru</td>\n",
              "    </tr>\n",
              "    <tr>\n",
              "      <th>4</th>\n",
              "      <td>63ffbac6aa0cef74782e2ce0</td>\n",
              "      <td>Младший Java-разработчик ( плавающий график)</td>\n",
              "      <td>ООО Темполайн Логистика</td>\n",
              "      <td>Москва</td>\n",
              "      <td>NaN</td>\n",
              "      <td>80000.0</td>\n",
              "      <td>руб.</td>\n",
              "      <td>https://hh.ru/vacancy/76966049?from=vacancy_se...</td>\n",
              "      <td>https://hh.ru</td>\n",
              "    </tr>\n",
              "    <tr>\n",
              "      <th>...</th>\n",
              "      <td>...</td>\n",
              "      <td>...</td>\n",
              "      <td>...</td>\n",
              "      <td>...</td>\n",
              "      <td>...</td>\n",
              "      <td>...</td>\n",
              "      <td>...</td>\n",
              "      <td>...</td>\n",
              "      <td>...</td>\n",
              "    </tr>\n",
              "    <tr>\n",
              "      <th>443</th>\n",
              "      <td>63ffbc9baa0cef74782e2e97</td>\n",
              "      <td>QA Automation инженер (Java)</td>\n",
              "      <td>Bell Integrator</td>\n",
              "      <td>Москва</td>\n",
              "      <td>NaN</td>\n",
              "      <td>NaN</td>\n",
              "      <td>None</td>\n",
              "      <td>https://hh.ru/vacancy/77000881?from=vacancy_se...</td>\n",
              "      <td>https://hh.ru</td>\n",
              "    </tr>\n",
              "    <tr>\n",
              "      <th>444</th>\n",
              "      <td>63ffbc9baa0cef74782e2e98</td>\n",
              "      <td>Senior/Middle Java Developer (remote)</td>\n",
              "      <td>ООО МКК А Деньги</td>\n",
              "      <td>Москва</td>\n",
              "      <td>NaN</td>\n",
              "      <td>300000.0</td>\n",
              "      <td>руб.</td>\n",
              "      <td>https://hh.ru/vacancy/76685797?from=vacancy_se...</td>\n",
              "      <td>https://hh.ru</td>\n",
              "    </tr>\n",
              "    <tr>\n",
              "      <th>445</th>\n",
              "      <td>63ffbc9baa0cef74782e2e99</td>\n",
              "      <td>Senior Backend разработчик/Java</td>\n",
              "      <td>ООО Гриндата</td>\n",
              "      <td>Санкт-Петербург</td>\n",
              "      <td>NaN</td>\n",
              "      <td>NaN</td>\n",
              "      <td>None</td>\n",
              "      <td>https://hh.ru/vacancy/75618834?from=vacancy_se...</td>\n",
              "      <td>https://hh.ru</td>\n",
              "    </tr>\n",
              "    <tr>\n",
              "      <th>446</th>\n",
              "      <td>63ffbc9baa0cef74782e2e9a</td>\n",
              "      <td>QA Auto (Java) engineer</td>\n",
              "      <td>IBS</td>\n",
              "      <td>Самара</td>\n",
              "      <td>NaN</td>\n",
              "      <td>NaN</td>\n",
              "      <td>None</td>\n",
              "      <td>https://hh.ru/vacancy/75776214?from=vacancy_se...</td>\n",
              "      <td>https://hh.ru</td>\n",
              "    </tr>\n",
              "    <tr>\n",
              "      <th>447</th>\n",
              "      <td>63ffbca3aa0cef74782e2e9b</td>\n",
              "      <td>Backend-разработчик (переход на GO)</td>\n",
              "      <td>ITECO</td>\n",
              "      <td>Нижний Новгород</td>\n",
              "      <td>NaN</td>\n",
              "      <td>NaN</td>\n",
              "      <td>None</td>\n",
              "      <td>https://hh.ru/vacancy/77018930?from=vacancy_se...</td>\n",
              "      <td>https://hh.ru</td>\n",
              "    </tr>\n",
              "  </tbody>\n",
              "</table>\n",
              "<p>448 rows × 9 columns</p>\n",
              "</div>\n",
              "      <button class=\"colab-df-convert\" onclick=\"convertToInteractive('df-ed5a3dfd-ad8e-4341-94cd-5b26b7926bec')\"\n",
              "              title=\"Convert this dataframe to an interactive table.\"\n",
              "              style=\"display:none;\">\n",
              "        \n",
              "  <svg xmlns=\"http://www.w3.org/2000/svg\" height=\"24px\"viewBox=\"0 0 24 24\"\n",
              "       width=\"24px\">\n",
              "    <path d=\"M0 0h24v24H0V0z\" fill=\"none\"/>\n",
              "    <path d=\"M18.56 5.44l.94 2.06.94-2.06 2.06-.94-2.06-.94-.94-2.06-.94 2.06-2.06.94zm-11 1L8.5 8.5l.94-2.06 2.06-.94-2.06-.94L8.5 2.5l-.94 2.06-2.06.94zm10 10l.94 2.06.94-2.06 2.06-.94-2.06-.94-.94-2.06-.94 2.06-2.06.94z\"/><path d=\"M17.41 7.96l-1.37-1.37c-.4-.4-.92-.59-1.43-.59-.52 0-1.04.2-1.43.59L10.3 9.45l-7.72 7.72c-.78.78-.78 2.05 0 2.83L4 21.41c.39.39.9.59 1.41.59.51 0 1.02-.2 1.41-.59l7.78-7.78 2.81-2.81c.8-.78.8-2.07 0-2.86zM5.41 20L4 18.59l7.72-7.72 1.47 1.35L5.41 20z\"/>\n",
              "  </svg>\n",
              "      </button>\n",
              "      \n",
              "  <style>\n",
              "    .colab-df-container {\n",
              "      display:flex;\n",
              "      flex-wrap:wrap;\n",
              "      gap: 12px;\n",
              "    }\n",
              "\n",
              "    .colab-df-convert {\n",
              "      background-color: #E8F0FE;\n",
              "      border: none;\n",
              "      border-radius: 50%;\n",
              "      cursor: pointer;\n",
              "      display: none;\n",
              "      fill: #1967D2;\n",
              "      height: 32px;\n",
              "      padding: 0 0 0 0;\n",
              "      width: 32px;\n",
              "    }\n",
              "\n",
              "    .colab-df-convert:hover {\n",
              "      background-color: #E2EBFA;\n",
              "      box-shadow: 0px 1px 2px rgba(60, 64, 67, 0.3), 0px 1px 3px 1px rgba(60, 64, 67, 0.15);\n",
              "      fill: #174EA6;\n",
              "    }\n",
              "\n",
              "    [theme=dark] .colab-df-convert {\n",
              "      background-color: #3B4455;\n",
              "      fill: #D2E3FC;\n",
              "    }\n",
              "\n",
              "    [theme=dark] .colab-df-convert:hover {\n",
              "      background-color: #434B5C;\n",
              "      box-shadow: 0px 1px 3px 1px rgba(0, 0, 0, 0.15);\n",
              "      filter: drop-shadow(0px 1px 2px rgba(0, 0, 0, 0.3));\n",
              "      fill: #FFFFFF;\n",
              "    }\n",
              "  </style>\n",
              "\n",
              "      <script>\n",
              "        const buttonEl =\n",
              "          document.querySelector('#df-ed5a3dfd-ad8e-4341-94cd-5b26b7926bec button.colab-df-convert');\n",
              "        buttonEl.style.display =\n",
              "          google.colab.kernel.accessAllowed ? 'block' : 'none';\n",
              "\n",
              "        async function convertToInteractive(key) {\n",
              "          const element = document.querySelector('#df-ed5a3dfd-ad8e-4341-94cd-5b26b7926bec');\n",
              "          const dataTable =\n",
              "            await google.colab.kernel.invokeFunction('convertToInteractive',\n",
              "                                                     [key], {});\n",
              "          if (!dataTable) return;\n",
              "\n",
              "          const docLinkHtml = 'Like what you see? Visit the ' +\n",
              "            '<a target=\"_blank\" href=https://colab.research.google.com/notebooks/data_table.ipynb>data table notebook</a>'\n",
              "            + ' to learn more about interactive tables.';\n",
              "          element.innerHTML = '';\n",
              "          dataTable['output_type'] = 'display_data';\n",
              "          await google.colab.output.renderOutput(dataTable, element);\n",
              "          const docLink = document.createElement('div');\n",
              "          docLink.innerHTML = docLinkHtml;\n",
              "          element.appendChild(docLink);\n",
              "        }\n",
              "      </script>\n",
              "    </div>\n",
              "  </div>\n",
              "  "
            ]
          },
          "metadata": {},
          "execution_count": 205
        }
      ]
    },
    {
      "cell_type": "markdown",
      "source": [
        "### 2. Написать функцию, которая производит поиск и выводит на экран вакансии с заработной платой больше введённой суммы (необходимо анализировать оба поля зарплаты)."
      ],
      "metadata": {
        "id": "Huwobg0yr1-S"
      }
    },
    {
      "cell_type": "code",
      "source": [
        "def find_salary(salary, currency): # простая функция поиска зарплат в коллекции\n",
        "    with_sal_min = collection.find({'salary_min': {'$gt': salary}, 'salary_currency': currency}) # ищутся все вакансии, где минимальный оклад больше указанного\n",
        "    with_sal_max = collection.find({'salary_min': {'$gt': salary}, 'salary_currency': currency}) # ищутся все вакансии, где минимальный оклад больше указанного\n",
        "    # также указываем валюту поиска, например 'руб.' или 'KZT'\n",
        "    for i in with_sal_min or with_sal_max:  # собственно, если вакансия попала в выборку по минимуму или максимуму, то выдаем ее в запрос \n",
        "        pprint(i)"
      ],
      "metadata": {
        "id": "I1Rz1rn9kqUo"
      },
      "execution_count": 191,
      "outputs": []
    },
    {
      "cell_type": "code",
      "source": [
        "find_salary(250000, 'руб.')"
      ],
      "metadata": {
        "colab": {
          "base_uri": "https://localhost:8080/"
        },
        "id": "PMrYTTHAlrzu",
        "outputId": "58a711e9-abf0-4f09-fdd9-f1abac453ef6"
      },
      "execution_count": 192,
      "outputs": [
        {
          "output_type": "stream",
          "name": "stdout",
          "text": [
            "{'_id': ObjectId('63ffbac6aa0cef74782e2cdf'),\n",
            " 'company_city': 'Москва',\n",
            " 'company_name': 'АО НТЦ ЕЭС Информационные Комплексы',\n",
            " 'salary_currency': 'руб.',\n",
            " 'salary_max': 400000,\n",
            " 'salary_min': 350000,\n",
            " 'site': 'https://hh.ru',\n",
            " 'vacancy_link': 'https://hh.ru/vacancy/76643997?from=vacancy_search_list&query=Java',\n",
            " 'vacancy_name': 'Ведущий Java разработчик (удалённо)'}\n",
            "{'_id': ObjectId('63ffbac6aa0cef74782e2ce4'),\n",
            " 'company_city': 'Москва',\n",
            " 'company_name': 'BrainHub',\n",
            " 'salary_currency': 'руб.',\n",
            " 'salary_max': 450000,\n",
            " 'salary_min': 350000,\n",
            " 'site': 'https://hh.ru',\n",
            " 'vacancy_link': 'https://hh.ru/vacancy/76610003?from=vacancy_search_list&query=Java',\n",
            " 'vacancy_name': 'Senior Java developer'}\n",
            "{'_id': ObjectId('63ffbac6aa0cef74782e2ce5'),\n",
            " 'company_city': 'Москва',\n",
            " 'company_name': 'ООО Робин',\n",
            " 'salary_currency': 'руб.',\n",
            " 'salary_max': None,\n",
            " 'salary_min': 400000,\n",
            " 'site': 'https://hh.ru',\n",
            " 'vacancy_link': 'https://hh.ru/vacancy/77550595?from=vacancy_search_list&query=Java',\n",
            " 'vacancy_name': 'Senior Java Backend Developer'}\n",
            "{'_id': ObjectId('63ffbac6aa0cef74782e2cea'),\n",
            " 'company_city': 'Москва',\n",
            " 'company_name': 'ООО Социальные Цифровые Платформы',\n",
            " 'salary_currency': 'руб.',\n",
            " 'salary_max': None,\n",
            " 'salary_min': 350000,\n",
            " 'site': 'https://hh.ru',\n",
            " 'vacancy_link': 'https://hh.ru/vacancy/77361724?from=vacancy_search_list&query=Java',\n",
            " 'vacancy_name': 'Senior Backend Developer (Java)'}\n",
            "{'_id': ObjectId('63ffbac8aa0cef74782e2cf0'),\n",
            " 'company_city': 'Москва',\n",
            " 'company_name': 'HFLabs',\n",
            " 'salary_currency': 'руб.',\n",
            " 'salary_max': 350000,\n",
            " 'salary_min': 300000,\n",
            " 'site': 'https://hh.ru',\n",
            " 'vacancy_link': 'https://hh.ru/vacancy/74339026?from=vacancy_search_list&query=Java',\n",
            " 'vacancy_name': 'Senior Java разработчик в команду продукта «Единый адрес»'}\n",
            "{'_id': ObjectId('63ffbac8aa0cef74782e2cfb'),\n",
            " 'company_city': 'Москва',\n",
            " 'company_name': 'Академсервис',\n",
            " 'salary_currency': 'руб.',\n",
            " 'salary_max': None,\n",
            " 'salary_min': 300000,\n",
            " 'site': 'https://hh.ru',\n",
            " 'vacancy_link': 'https://hh.ru/vacancy/75787829?from=vacancy_search_list&query=Java',\n",
            " 'vacancy_name': 'Senior Java Developer / Главный Java разработчик'}\n",
            "{'_id': ObjectId('63ffbae7aa0cef74782e2e3a'),\n",
            " 'company_city': 'Москва',\n",
            " 'company_name': 'ООО Робин',\n",
            " 'salary_currency': 'руб.',\n",
            " 'salary_max': 400000,\n",
            " 'salary_min': 300000,\n",
            " 'site': 'https://hh.ru',\n",
            " 'vacancy_link': 'https://hh.ru/vacancy/76389502?from=vacancy_search_list&query=Java',\n",
            " 'vacancy_name': 'Ведущий разработчик (full-stack)'}\n",
            "{'_id': ObjectId('63ffbaeaaa0cef74782e2e54'),\n",
            " 'company_city': 'Москва',\n",
            " 'company_name': 'ООО Датаномика',\n",
            " 'salary_currency': 'руб.',\n",
            " 'salary_max': 320000,\n",
            " 'salary_min': 280000,\n",
            " 'site': 'https://hh.ru',\n",
            " 'vacancy_link': 'https://hh.ru/vacancy/76870472?from=vacancy_search_list&query=Java',\n",
            " 'vacancy_name': 'Системный/Бизнес Аналитик NBA Platform/RecSys'}\n"
          ]
        }
      ]
    },
    {
      "cell_type": "markdown",
      "source": [
        "### Проверка, что будут добавляться только новые вакансии/продукты в вашу базу"
      ],
      "metadata": {
        "id": "JW2cf98pss9o"
      }
    },
    {
      "cell_type": "code",
      "source": [
        "collection.find()[0] # берем первую вакансию в коллекции и запоминаем ссылку\n"
      ],
      "metadata": {
        "colab": {
          "base_uri": "https://localhost:8080/"
        },
        "id": "KjIWTCRzpGQk",
        "outputId": "72295726-904a-415d-b77d-452706315f20"
      },
      "execution_count": 193,
      "outputs": [
        {
          "output_type": "execute_result",
          "data": {
            "text/plain": [
              "{'_id': ObjectId('63ffbac6aa0cef74782e2cdb'), 'vacancy_name': 'Java-разработчик', 'company_name': 'ТОО KAP Technology', 'company_city': 'Астана', 'salary_min': None, 'salary_max': None, 'salary_currency': None, 'vacancy_link': 'https://hh.ru/vacancy/77457866?from=vacancy_search_list&query=Java', 'site': 'https://hh.ru'}"
            ]
          },
          "metadata": {},
          "execution_count": 193
        }
      ]
    },
    {
      "cell_type": "markdown",
      "source": [
        "https://hh.ru/vacancy/77457866?from=vacancy_search_list&query=Java\n",
        "\n",
        "теперь удаляем эту вакансию из коллекции и на ее место запишем новую с той же ссылкой, но с ошибками:"
      ],
      "metadata": {
        "id": "LxOlwxRdtBd3"
      }
    },
    {
      "cell_type": "code",
      "source": [
        "collection.delete_one({'vacancy_name': 'Java-разработчик', \n",
        "                       'company_name': 'ТОО KAP Technology', \n",
        "                       'company_city': 'Астана', \n",
        "                       'salary_min': None, \n",
        "                       'salary_max': None, \n",
        "                       'salary_currency': None, \n",
        "                       'vacancy_link': 'https://hh.ru/vacancy/77457866?from=vacancy_search_list&query=Java', \n",
        "                       'site': 'https://hh.ru'})"
      ],
      "metadata": {
        "colab": {
          "base_uri": "https://localhost:8080/"
        },
        "id": "2jQ9fS8JtMwm",
        "outputId": "b2b37379-1436-4171-9b32-d0a83606f3b5"
      },
      "execution_count": 194,
      "outputs": [
        {
          "output_type": "execute_result",
          "data": {
            "text/plain": [
              "<pymongo.results.DeleteResult object at 0x7ff5178c8790>"
            ]
          },
          "metadata": {},
          "execution_count": 194
        }
      ]
    },
    {
      "cell_type": "code",
      "source": [
        "collection.find_one({'vacancy_link': 'https://hh.ru/vacancy/77457866?from=vacancy_search_list&query=Java'}) # проверяем, что вакансия удалена"
      ],
      "metadata": {
        "id": "9s_yQSVEtZqx"
      },
      "execution_count": 195,
      "outputs": []
    },
    {
      "cell_type": "code",
      "source": [
        "collection.insert_one({'vacancy_name': 'Pizza courier', \n",
        "                       'company_name': 'dontknow', \n",
        "                       'company_city': 'dontknow', \n",
        "                       'salary_min': None, \n",
        "                       'salary_max': None, \n",
        "                       'salary_currency': None, \n",
        "                       'vacancy_link': 'https://hh.ru/vacancy/77457866?from=vacancy_search_list&query=Java', \n",
        "                       'site': 'https://hh.ru'})"
      ],
      "metadata": {
        "colab": {
          "base_uri": "https://localhost:8080/"
        },
        "id": "70uSQfPdpZtT",
        "outputId": "4a4db6da-06b3-42da-b583-15a336682b38"
      },
      "execution_count": 196,
      "outputs": [
        {
          "output_type": "execute_result",
          "data": {
            "text/plain": [
              "<pymongo.results.InsertOneResult object at 0x7ff517ab47c0>"
            ]
          },
          "metadata": {},
          "execution_count": 196
        }
      ]
    },
    {
      "cell_type": "code",
      "source": [
        "collection.find_one({'vacancy_link': 'https://hh.ru/vacancy/77457866?from=vacancy_search_list&query=Java'}) # проверяем, что добавили вакансию с ошибкой"
      ],
      "metadata": {
        "colab": {
          "base_uri": "https://localhost:8080/"
        },
        "id": "6uOuIQK3uB65",
        "outputId": "219c64f8-a92d-48cc-c3bb-c4c4b82ba3af"
      },
      "execution_count": 197,
      "outputs": [
        {
          "output_type": "execute_result",
          "data": {
            "text/plain": [
              "{'_id': ObjectId('63ffbc5aaa0cef74782e2e68'), 'vacancy_name': 'Pizza courier', 'company_name': 'dontknow', 'company_city': 'dontknow', 'salary_min': None, 'salary_max': None, 'salary_currency': None, 'vacancy_link': 'https://hh.ru/vacancy/77457866?from=vacancy_search_list&query=Java', 'site': 'https://hh.ru'}"
            ]
          },
          "metadata": {},
          "execution_count": 197
        }
      ]
    },
    {
      "cell_type": "markdown",
      "source": [
        "Обратим внимание на новый '_id': ObjectId('63ffbc5aaa0cef74782e2e68')"
      ],
      "metadata": {
        "id": "fmOF4L3m_iE6"
      }
    },
    {
      "cell_type": "code",
      "source": [
        "parsing_hh() #включаем заново парсер"
      ],
      "metadata": {
        "id": "EAQFbawhuFqA"
      },
      "execution_count": 199,
      "outputs": []
    },
    {
      "cell_type": "markdown",
      "source": [
        "#### и проверяем вакансию в коллекции по данной ссылке"
      ],
      "metadata": {
        "id": "y7TyE52T-b9n"
      }
    },
    {
      "cell_type": "code",
      "source": [
        "collection.find_one({'vacancy_link': 'https://hh.ru/vacancy/77457866?from=vacancy_search_list&query=Java'})"
      ],
      "metadata": {
        "colab": {
          "base_uri": "https://localhost:8080/"
        },
        "id": "7V2sQ_3EuPfv",
        "outputId": "f5797cb2-1c2a-451b-a276-4648b31c45db"
      },
      "execution_count": 200,
      "outputs": [
        {
          "output_type": "execute_result",
          "data": {
            "text/plain": [
              "{'_id': ObjectId('63ffbc5aaa0cef74782e2e68'), 'vacancy_name': 'Java-разработчик', 'company_name': 'ТОО KAP Technology', 'company_city': 'Астана', 'salary_min': None, 'salary_max': None, 'salary_currency': None, 'vacancy_link': 'https://hh.ru/vacancy/77457866?from=vacancy_search_list&query=Java', 'site': 'https://hh.ru'}"
            ]
          },
          "metadata": {},
          "execution_count": 200
        }
      ]
    },
    {
      "cell_type": "markdown",
      "source": [
        "#### обратим внимание, что парсер именно обновил данные и оставил прежний ID: <br>{'_id': ObjectId('63ffbc5aaa0cef74782e2e68)}\n",
        "<br> При включении парсера снова, он будет добавлять только новые вакансии, а существующие вакансии обновлять, если спарсит по ним новые данные"
      ],
      "metadata": {
        "id": "cTrhR2gN-j8B"
      }
    },
    {
      "cell_type": "code",
      "source": [
        "for i in collection.find({'vacancy_link': 'https://hh.ru/vacancy/77457866?from=vacancy_search_list&query=Java'}):\n",
        "    pprint(i)"
      ],
      "metadata": {
        "colab": {
          "base_uri": "https://localhost:8080/"
        },
        "id": "1dDez1kzubz7",
        "outputId": "f848cdf8-cc60-49d8-8518-4cb1f8286e76"
      },
      "execution_count": 201,
      "outputs": [
        {
          "output_type": "stream",
          "name": "stdout",
          "text": [
            "{'_id': ObjectId('63ffbc5aaa0cef74782e2e68'),\n",
            " 'company_city': 'Астана',\n",
            " 'company_name': 'ТОО KAP Technology',\n",
            " 'salary_currency': None,\n",
            " 'salary_max': None,\n",
            " 'salary_min': None,\n",
            " 'site': 'https://hh.ru',\n",
            " 'vacancy_link': 'https://hh.ru/vacancy/77457866?from=vacancy_search_list&query=Java',\n",
            " 'vacancy_name': 'Java-разработчик'}\n"
          ]
        }
      ]
    }
  ]
}