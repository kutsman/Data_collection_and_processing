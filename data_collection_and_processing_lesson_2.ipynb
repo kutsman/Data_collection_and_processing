{
 "cells": [
  {
   "cell_type": "markdown",
   "id": "59200887",
   "metadata": {},
   "source": [
    "Задание 1. Написать приложение или функцию, которые собирают основные новости с сайта на выбор: lenta.ru, yandex новости. Для парсинга использовать XPath."
   ]
  },
  {
   "cell_type": "code",
   "execution_count": 1,
   "id": "728a60db",
   "metadata": {},
   "outputs": [],
   "source": [
    "import requests\n",
    "from lxml import html"
   ]
  },
  {
   "cell_type": "code",
   "execution_count": 2,
   "id": "e4f27b75",
   "metadata": {},
   "outputs": [],
   "source": [
    "url = 'https://lenta.ru'\n",
    "headers = {\n",
    "                'User-Agent': 'Mozilla/5.0 (Windows NT 6.1; Win64; x64) AppleWebKit/537.36 (KHTML, like Gecko) Chrome/109.0.0.0 Safari/537.36'\n",
    "            }"
   ]
  },
  {
   "cell_type": "code",
   "execution_count": 3,
   "id": "13ba44e3",
   "metadata": {},
   "outputs": [
    {
     "name": "stdout",
     "output_type": "stream",
     "text": [
      "Получен результат: <Response [200]>\n"
     ]
    }
   ],
   "source": [
    "response = requests.get(url,headers=headers)\n",
    "print(f'Получен результат: {response}')"
   ]
  },
  {
   "cell_type": "code",
   "execution_count": 4,
   "id": "37493f1c",
   "metadata": {},
   "outputs": [],
   "source": [
    "root = html.fromstring(response.text)"
   ]
  },
  {
   "cell_type": "code",
   "execution_count": 29,
   "id": "b78f9b54",
   "metadata": {},
   "outputs": [],
   "source": [
    "#response.text"
   ]
  },
  {
   "cell_type": "code",
   "execution_count": 6,
   "id": "dfadd6d5",
   "metadata": {},
   "outputs": [],
   "source": [
    "news_text=[]"
   ]
  },
  {
   "cell_type": "code",
   "execution_count": 7,
   "id": "3846d341",
   "metadata": {},
   "outputs": [],
   "source": [
    "# //*[@id=\"body\"]/div[3]/div[3]/main/div/section[1]/div[1]/div[1]/div[1]/div/a/div[2]/h3/text() путь XPath\n",
    "# чтобы не писать такой длинный путь, можно начать с <a ...> "
   ]
  },
  {
   "cell_type": "code",
   "execution_count": 8,
   "id": "d9fdce6e",
   "metadata": {},
   "outputs": [],
   "source": [
    "news_text_list=root.xpath(\"//div/a[contains(@class, '_topnews')]/div/h3/text()\")"
   ]
  },
  {
   "cell_type": "code",
   "execution_count": 9,
   "id": "67efa053",
   "metadata": {},
   "outputs": [],
   "source": [
    "news_text_list_1=root.xpath(\"//div/a[contains(@class, '_topnews')]/div/span/text()\")"
   ]
  },
  {
   "cell_type": "code",
   "execution_count": 10,
   "id": "3295b09a",
   "metadata": {},
   "outputs": [],
   "source": [
    "news_text_final = news_text_list+news_text_list_1"
   ]
  },
  {
   "cell_type": "code",
   "execution_count": 11,
   "id": "80a00a3c",
   "metadata": {},
   "outputs": [],
   "source": [
    "for i in news_text_final:\n",
    "    news_text.append(i)"
   ]
  },
  {
   "cell_type": "code",
   "execution_count": 12,
   "id": "ee33a6c6",
   "metadata": {},
   "outputs": [
    {
     "data": {
      "text/plain": [
       "['Зеленский оценил вероятность присоединения Белоруссии к спецоперации на Украине',\n",
       " 'Орландо Блум рассказал о сложных отношениях с Кэти Перри',\n",
       " 'Двум легионерам «Зенита» одобрили получение российского гражданства',\n",
       " 'Пригожин заявил о гибели четырех финских бойцов из ЧВК «Вагнер»',\n",
       " 'В России усомнились в способности ООН стать посредницей в переговорах с Украиной',\n",
       " 'Российского учителя взяли под стражу по подозрению в насилии над тремя девочками',\n",
       " 'Россияне снова стали лидерами по покупке жилья в Турции',\n",
       " 'Российский подросток погиб при взрыве газа в жилом доме',\n",
       " 'Средства популярного бренда привели к массовому облысению женщин',\n",
       " 'Шольц высказался о невозможности Украины завершить конфликт до конца года',\n",
       " 'Актер из «Папиных дочек» признался в домогательствах к ребенку',\n",
       " 'В России резко подорожал бензин',\n",
       " 'Россия обвинила США в замалчивании крупной экологической катастрофы']"
      ]
     },
     "execution_count": 12,
     "metadata": {},
     "output_type": "execute_result"
    }
   ],
   "source": [
    "news_text"
   ]
  },
  {
   "cell_type": "code",
   "execution_count": 13,
   "id": "10705e04",
   "metadata": {},
   "outputs": [],
   "source": [
    "news_time_list=root.xpath(\"//div/a[contains(@class, '_topnews')]/div/time/text()\")"
   ]
  },
  {
   "cell_type": "code",
   "execution_count": 14,
   "id": "814f5df6",
   "metadata": {},
   "outputs": [],
   "source": [
    "news_time_list_1=root.xpath(\"//div/a[contains(@class, '_topnews')]/div/div/time/text()\")"
   ]
  },
  {
   "cell_type": "code",
   "execution_count": 15,
   "id": "9daa223a",
   "metadata": {},
   "outputs": [],
   "source": [
    "news_time_final = news_time_list+news_time_list_1"
   ]
  },
  {
   "cell_type": "code",
   "execution_count": 16,
   "id": "55ba1673",
   "metadata": {},
   "outputs": [],
   "source": [
    "news_time=[]"
   ]
  },
  {
   "cell_type": "code",
   "execution_count": 17,
   "id": "d672a9c8",
   "metadata": {},
   "outputs": [],
   "source": [
    "for i in news_time_final:\n",
    "    news_time.append(i)"
   ]
  },
  {
   "cell_type": "code",
   "execution_count": 18,
   "id": "62b30cf6",
   "metadata": {},
   "outputs": [
    {
     "data": {
      "text/plain": [
       "['19:26',\n",
       " '19:46',\n",
       " '19:44',\n",
       " '19:41',\n",
       " '19:34',\n",
       " '19:32',\n",
       " '19:29',\n",
       " '19:22',\n",
       " '19:12',\n",
       " '19:09',\n",
       " '19:03',\n",
       " '18:43',\n",
       " '18:31']"
      ]
     },
     "execution_count": 18,
     "metadata": {},
     "output_type": "execute_result"
    }
   ],
   "source": [
    "news_time"
   ]
  },
  {
   "cell_type": "code",
   "execution_count": 19,
   "id": "264e33a9",
   "metadata": {},
   "outputs": [],
   "source": [
    "news_link_list=root.xpath(\"//div/a[contains(@class, '_topnews')]/@href\")"
   ]
  },
  {
   "cell_type": "code",
   "execution_count": 20,
   "id": "132a6b66",
   "metadata": {},
   "outputs": [
    {
     "data": {
      "text/plain": [
       "['/news/2023/02/17/ze_bel/',\n",
       " '/news/2023/02/17/bloom_perry/',\n",
       " '/news/2023/02/17/malkom/',\n",
       " '/news/2023/02/17/4/',\n",
       " '/news/2023/02/17/8735/',\n",
       " '/news/2023/02/17/nassiliee/',\n",
       " '/news/2023/02/17/leader_turk/',\n",
       " '/news/2023/02/17/gazzz/',\n",
       " '/news/2023/02/17/olaplex/',\n",
       " '/news/2023/02/17/sholts_svo/',\n",
       " '/news/2023/02/17/muhaidinov/',\n",
       " '/news/2023/02/17/salivaembenz/',\n",
       " '/news/2023/02/17/ohio_trains/']"
      ]
     },
     "execution_count": 20,
     "metadata": {},
     "output_type": "execute_result"
    }
   ],
   "source": [
    "news_link_list"
   ]
  },
  {
   "cell_type": "code",
   "execution_count": 21,
   "id": "974d1169",
   "metadata": {},
   "outputs": [],
   "source": [
    "news_link=[]"
   ]
  },
  {
   "cell_type": "code",
   "execution_count": 22,
   "id": "62e55ffc",
   "metadata": {},
   "outputs": [],
   "source": [
    "for i in news_link_list:\n",
    "    if 'http' in i: \n",
    "        news_link.append(i)\n",
    "    else:\n",
    "        news_link.append(url+i)"
   ]
  },
  {
   "cell_type": "code",
   "execution_count": 23,
   "id": "bd0e6af1",
   "metadata": {},
   "outputs": [
    {
     "data": {
      "text/plain": [
       "['https://lenta.ru/news/2023/02/17/ze_bel/',\n",
       " 'https://lenta.ru/news/2023/02/17/bloom_perry/',\n",
       " 'https://lenta.ru/news/2023/02/17/malkom/',\n",
       " 'https://lenta.ru/news/2023/02/17/4/',\n",
       " 'https://lenta.ru/news/2023/02/17/8735/',\n",
       " 'https://lenta.ru/news/2023/02/17/nassiliee/',\n",
       " 'https://lenta.ru/news/2023/02/17/leader_turk/',\n",
       " 'https://lenta.ru/news/2023/02/17/gazzz/',\n",
       " 'https://lenta.ru/news/2023/02/17/olaplex/',\n",
       " 'https://lenta.ru/news/2023/02/17/sholts_svo/',\n",
       " 'https://lenta.ru/news/2023/02/17/muhaidinov/',\n",
       " 'https://lenta.ru/news/2023/02/17/salivaembenz/',\n",
       " 'https://lenta.ru/news/2023/02/17/ohio_trains/']"
      ]
     },
     "execution_count": 23,
     "metadata": {},
     "output_type": "execute_result"
    }
   ],
   "source": [
    "news_link"
   ]
  },
  {
   "cell_type": "code",
   "execution_count": 24,
   "id": "f2c5c84d",
   "metadata": {},
   "outputs": [],
   "source": [
    "keys = ['title', 'link', 'time']"
   ]
  },
  {
   "cell_type": "code",
   "execution_count": 25,
   "id": "f1524a21",
   "metadata": {},
   "outputs": [],
   "source": [
    "news=[]\n",
    "for i in list(zip(news_text, news_link, news_time)):\n",
    "    dict={}\n",
    "    for key, value in zip(keys, i):\n",
    "            dict[key] = value\n",
    "    dict['source'] = url\n",
    "    news.append(dict)"
   ]
  },
  {
   "cell_type": "code",
   "execution_count": 26,
   "id": "39ad5e05",
   "metadata": {},
   "outputs": [
    {
     "data": {
      "text/plain": [
       "[{'title': 'Зеленский оценил вероятность присоединения Белоруссии к спецоперации на Украине',\n",
       "  'link': 'https://lenta.ru/news/2023/02/17/ze_bel/',\n",
       "  'time': '19:26',\n",
       "  'source': 'https://lenta.ru'},\n",
       " {'title': 'Орландо Блум рассказал о сложных отношениях с Кэти Перри',\n",
       "  'link': 'https://lenta.ru/news/2023/02/17/bloom_perry/',\n",
       "  'time': '19:46',\n",
       "  'source': 'https://lenta.ru'},\n",
       " {'title': 'Двум легионерам «Зенита» одобрили получение российского гражданства',\n",
       "  'link': 'https://lenta.ru/news/2023/02/17/malkom/',\n",
       "  'time': '19:44',\n",
       "  'source': 'https://lenta.ru'},\n",
       " {'title': 'Пригожин заявил о гибели четырех финских бойцов из ЧВК «Вагнер»',\n",
       "  'link': 'https://lenta.ru/news/2023/02/17/4/',\n",
       "  'time': '19:41',\n",
       "  'source': 'https://lenta.ru'},\n",
       " {'title': 'В России усомнились в способности ООН стать посредницей в переговорах с Украиной',\n",
       "  'link': 'https://lenta.ru/news/2023/02/17/8735/',\n",
       "  'time': '19:34',\n",
       "  'source': 'https://lenta.ru'},\n",
       " {'title': 'Российского учителя взяли под стражу по подозрению в насилии над тремя девочками',\n",
       "  'link': 'https://lenta.ru/news/2023/02/17/nassiliee/',\n",
       "  'time': '19:32',\n",
       "  'source': 'https://lenta.ru'},\n",
       " {'title': 'Россияне снова стали лидерами по покупке жилья в Турции',\n",
       "  'link': 'https://lenta.ru/news/2023/02/17/leader_turk/',\n",
       "  'time': '19:29',\n",
       "  'source': 'https://lenta.ru'},\n",
       " {'title': 'Российский подросток погиб при взрыве газа в жилом доме',\n",
       "  'link': 'https://lenta.ru/news/2023/02/17/gazzz/',\n",
       "  'time': '19:22',\n",
       "  'source': 'https://lenta.ru'},\n",
       " {'title': 'Средства популярного бренда привели к массовому облысению женщин',\n",
       "  'link': 'https://lenta.ru/news/2023/02/17/olaplex/',\n",
       "  'time': '19:12',\n",
       "  'source': 'https://lenta.ru'},\n",
       " {'title': 'Шольц высказался о невозможности Украины завершить конфликт до конца года',\n",
       "  'link': 'https://lenta.ru/news/2023/02/17/sholts_svo/',\n",
       "  'time': '19:09',\n",
       "  'source': 'https://lenta.ru'},\n",
       " {'title': 'Актер из «Папиных дочек» признался в домогательствах к ребенку',\n",
       "  'link': 'https://lenta.ru/news/2023/02/17/muhaidinov/',\n",
       "  'time': '19:03',\n",
       "  'source': 'https://lenta.ru'},\n",
       " {'title': 'В России резко подорожал бензин',\n",
       "  'link': 'https://lenta.ru/news/2023/02/17/salivaembenz/',\n",
       "  'time': '18:43',\n",
       "  'source': 'https://lenta.ru'},\n",
       " {'title': 'Россия обвинила США в замалчивании крупной экологической катастрофы',\n",
       "  'link': 'https://lenta.ru/news/2023/02/17/ohio_trains/',\n",
       "  'time': '18:31',\n",
       "  'source': 'https://lenta.ru'}]"
      ]
     },
     "execution_count": 26,
     "metadata": {},
     "output_type": "execute_result"
    }
   ],
   "source": [
    "news"
   ]
  },
  {
   "cell_type": "code",
   "execution_count": 27,
   "id": "73f68314",
   "metadata": {},
   "outputs": [],
   "source": [
    "def news_lenta():\n",
    "    \n",
    "    headers = {\n",
    "                'User-Agent': 'Mozilla/5.0 (Windows NT 6.1; Win64; x64) AppleWebKit/537.36 (KHTML, like Gecko) Chrome/109.0.0.0 Safari/537.36'\n",
    "            }\n",
    "    \n",
    "    url = 'https://lenta.ru'\n",
    "    \n",
    "    response = requests.get(url,headers=headers)\n",
    "    root = html.fromstring(response.text)\n",
    "    \n",
    "    # //*[@id=\"body\"]/div[3]/div[3]/main/div/section[1]/div[1]/div[1]/div[1]/div/a/div[2]/h3/text() путь XPath\n",
    "    # чтобы не писать такой длинный путь, можно начать с <a ...>, берем блок TOPNEWS.\n",
    "    \n",
    "    news_text=[]\n",
    "    \n",
    "    news_text_list=root.xpath(\"//div/a[contains(@class, '_topnews')]/div/h3/text()\") # берем ТЕКСТ заглавной основной новости\n",
    "    news_text_list_1=root.xpath(\"//div/a[contains(@class, '_topnews')]/div/span/text()\") #  берем ТЕКСТ остальных основных новостей\n",
    "    \n",
    "    news_text_final = news_text_list+news_text_list_1 #собираем в единый список\n",
    "    \n",
    "    for i in news_text_final:\n",
    "        news_text.append(i)\n",
    "    \n",
    "    news_time=[]\n",
    "    \n",
    "    news_time_list=root.xpath(\"//div/a[contains(@class, '_topnews')]/div/time/text()\") # берем ВРЕМЯ заглавной основной новости\n",
    "    news_time_list_1=root.xpath(\"//div/a[contains(@class, '_topnews')]/div/div/time/text()\") #  берем ВРЕМЯ остальных основных новостей\n",
    "    \n",
    "    news_time_final = news_time_list+news_time_list_1\n",
    "    for i in news_time_final:\n",
    "        news_time.append(i)\n",
    "    \n",
    "    news_link=[]\n",
    "    \n",
    "    news_link_list=root.xpath(\"//div/a[contains(@class, '_topnews')]/@href\") # берем ССЫЛКУ заглавной основной новости\n",
    "    \n",
    "    for i in news_link_list:\n",
    "        if 'http' in i:  \n",
    "            news_link.append(i) #тут фильтруем на новость с адресом стороннего сайта/ресурса\n",
    "        else:\n",
    "            news_link.append(url+i)\n",
    "        \n",
    "    #соберем все в словарь\n",
    "    keys = ['title', 'link', 'time']\n",
    "    news=[]\n",
    "    for i in list(zip(news_text, news_link, news_time)):\n",
    "        dict={}\n",
    "        for key, value in zip(keys, i):\n",
    "                dict[key] = value\n",
    "        dict['source'] = url\n",
    "        news.append(dict)\n",
    "        \n",
    "    return news"
   ]
  },
  {
   "cell_type": "code",
   "execution_count": 28,
   "id": "6a6d2f4a",
   "metadata": {},
   "outputs": [
    {
     "data": {
      "text/plain": [
       "[{'title': 'Зеленский оценил вероятность присоединения Белоруссии к спецоперации на Украине',\n",
       "  'link': 'https://lenta.ru/news/2023/02/17/ze_bel/',\n",
       "  'time': '19:26',\n",
       "  'source': 'https://lenta.ru'},\n",
       " {'title': 'Орландо Блум рассказал о сложных отношениях с Кэти Перри',\n",
       "  'link': 'https://lenta.ru/news/2023/02/17/bloom_perry/',\n",
       "  'time': '19:46',\n",
       "  'source': 'https://lenta.ru'},\n",
       " {'title': 'Двум легионерам «Зенита» одобрили получение российского гражданства',\n",
       "  'link': 'https://lenta.ru/news/2023/02/17/malkom/',\n",
       "  'time': '19:44',\n",
       "  'source': 'https://lenta.ru'},\n",
       " {'title': 'Пригожин заявил о гибели четырех финских бойцов из ЧВК «Вагнер»',\n",
       "  'link': 'https://lenta.ru/news/2023/02/17/4/',\n",
       "  'time': '19:41',\n",
       "  'source': 'https://lenta.ru'},\n",
       " {'title': 'В России усомнились в способности ООН стать посредницей в переговорах с Украиной',\n",
       "  'link': 'https://lenta.ru/news/2023/02/17/8735/',\n",
       "  'time': '19:34',\n",
       "  'source': 'https://lenta.ru'},\n",
       " {'title': 'Российского учителя взяли под стражу по подозрению в насилии над тремя девочками',\n",
       "  'link': 'https://lenta.ru/news/2023/02/17/nassiliee/',\n",
       "  'time': '19:32',\n",
       "  'source': 'https://lenta.ru'},\n",
       " {'title': 'Россияне снова стали лидерами по покупке жилья в Турции',\n",
       "  'link': 'https://lenta.ru/news/2023/02/17/leader_turk/',\n",
       "  'time': '19:29',\n",
       "  'source': 'https://lenta.ru'},\n",
       " {'title': 'Российский подросток погиб при взрыве газа в жилом доме',\n",
       "  'link': 'https://lenta.ru/news/2023/02/17/gazzz/',\n",
       "  'time': '19:22',\n",
       "  'source': 'https://lenta.ru'},\n",
       " {'title': 'Средства популярного бренда привели к массовому облысению женщин',\n",
       "  'link': 'https://lenta.ru/news/2023/02/17/olaplex/',\n",
       "  'time': '19:12',\n",
       "  'source': 'https://lenta.ru'},\n",
       " {'title': 'Шольц высказался о невозможности Украины завершить конфликт до конца года',\n",
       "  'link': 'https://lenta.ru/news/2023/02/17/sholts_svo/',\n",
       "  'time': '19:09',\n",
       "  'source': 'https://lenta.ru'},\n",
       " {'title': 'Актер из «Папиных дочек» признался в домогательствах к ребенку',\n",
       "  'link': 'https://lenta.ru/news/2023/02/17/muhaidinov/',\n",
       "  'time': '19:03',\n",
       "  'source': 'https://lenta.ru'},\n",
       " {'title': 'В России резко подорожал бензин',\n",
       "  'link': 'https://lenta.ru/news/2023/02/17/salivaembenz/',\n",
       "  'time': '18:43',\n",
       "  'source': 'https://lenta.ru'},\n",
       " {'title': 'Россия обвинила США в замалчивании крупной экологической катастрофы',\n",
       "  'link': 'https://lenta.ru/news/2023/02/17/ohio_trains/',\n",
       "  'time': '18:31',\n",
       "  'source': 'https://lenta.ru'}]"
      ]
     },
     "execution_count": 28,
     "metadata": {},
     "output_type": "execute_result"
    }
   ],
   "source": [
    "news_lenta()"
   ]
  },
  {
   "cell_type": "code",
   "execution_count": null,
   "id": "5d736a7a",
   "metadata": {},
   "outputs": [],
   "source": []
  }
 ],
 "metadata": {
  "kernelspec": {
   "display_name": "Python 3 (ipykernel)",
   "language": "python",
   "name": "python3"
  },
  "language_info": {
   "codemirror_mode": {
    "name": "ipython",
    "version": 3
   },
   "file_extension": ".py",
   "mimetype": "text/x-python",
   "name": "python",
   "nbconvert_exporter": "python",
   "pygments_lexer": "ipython3",
   "version": "3.8.10"
  }
 },
 "nbformat": 4,
 "nbformat_minor": 5
}
